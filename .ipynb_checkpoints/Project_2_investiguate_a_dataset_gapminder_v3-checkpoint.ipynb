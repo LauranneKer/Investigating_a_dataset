{
 "cells": [
  {
   "cell_type": "markdown",
   "metadata": {},
   "source": [
    "# Project: What promotes higher rates of family female workers?\n",
    "\n",
    "## Table of Contents\n",
    "<ul>\n",
    "<li><a href=\"#intro\">Introduction</a></li>\n",
    "<li><a href=\"#wrangling\">Data Wrangling</a></li>\n",
    "<li><a href=\"#eda\">Exploratory Data Analysis</a></li>\n",
    "<li><a href=\"#conclusions\">Conclusions</a></li>\n",
    "</ul>"
   ]
  },
  {
   "cell_type": "markdown",
   "metadata": {},
   "source": [
    "<a id='intro'></a>\n",
    "## Introduction\n",
    "\n",
    "In this project, we are going to _analyse the impact of several indicators on the number of family female workers_. The data is extracted from [GapMinder](https://www.gapminder.org/data/).\n",
    "\n",
    "The purpose of this analysis is to understand:\n",
    "- What are the factors that give a stronger chance to a country to count more family female workers? \n",
    "- How did the female/male family workers ratio evolve over time in developed countries?\n",
    "\n",
    "In this perspective, we will analyse _economy, education, equality and society_ indicators to estimate their effect on the rate of female family workers. We are going to select 10 countries around the world to frame this analysis."
   ]
  },
  {
   "cell_type": "markdown",
   "metadata": {},
   "source": [
    "####  Scope"
   ]
  },
  {
   "cell_type": "markdown",
   "metadata": {},
   "source": [
    "> The 10 countries we will keep in the dataset for this analysis are:\n",
    "1. Sweden\n",
    "2. Germany\n",
    "3. Belgium\n",
    "4. Italy\n",
    "5. Senegal\n",
    "6. India\n",
    "7. USA\n",
    "8. Brasil\n",
    "9. Syria\n",
    "10. Australia"
   ]
  },
  {
   "cell_type": "markdown",
   "metadata": {},
   "source": [
    "#### Questions"
   ]
  },
  {
   "cell_type": "markdown",
   "metadata": {},
   "source": [
    "In this analysis, we will attempt to answer the following detailed questions:\n",
    "\n",
    "1. How are the list of 10 countries ranked based on # of female workers ?\n",
    "2. Which indicator has a highest average correlation with # of female workers ? \n",
    "3. What is the female/male ratio of family workers ?\n",
    "4. What level of income/Aid for most equal ratio of female/male family workers ?\n",
    "5. How did female/male ratio of family workers evolved in Belgium and Italy in the past vs. today ?"
   ]
  },
  {
   "cell_type": "markdown",
   "metadata": {},
   "source": [
    "#### Data collection"
   ]
  },
  {
   "cell_type": "markdown",
   "metadata": {},
   "source": [
    "> **Datasets**: we have downloaded 5 datasets from GapMinder in order to perform this analysis:\n",
    ">\n",
    "> - Female Family workers\n",
    "> - Male Family workers\n",
    "> - Income\n",
    "> - Mean years in school\n",
    "> - Human development Index"
   ]
  },
  {
   "cell_type": "code",
   "execution_count": null,
   "metadata": {},
   "outputs": [],
   "source": [
    "# import packages\n",
    "import pandas as pd\n",
    "import matplotlib.pyplot as plt\n",
    "import numpy as np\n",
    "import functools \n",
    "%matplotlib inline\n",
    "\n",
    "# import datasets\n",
    "df_female = pd.read_csv('female_family_workers_percent_of_female_employment.csv')\n",
    "df_male = pd.read_csv('male_family_workers_percent_of_male_employment.csv')\n",
    "df_income = pd.read_csv('income_per_person_gdppercapita_ppp_inflation_adjusted.csv')\n",
    "df_school = pd.read_csv('mean_years_in_school_women_percent_men_25_to_34_years.csv')\n",
    "df_hdi = pd.read_csv('hdi_human_development_index.csv')"
   ]
  },
  {
   "cell_type": "markdown",
   "metadata": {},
   "source": [
    "<a id='wrangling'></a>\n",
    "## Data Wrangling"
   ]
  },
  {
   "cell_type": "markdown",
   "metadata": {},
   "source": [
    "#### Assessment\n",
    "> Let's check each of these dataframes info, we noticed:\n",
    "> - All these datasets look like they have the same structure: countries in rows and years in columns\n",
    "> - Indicator data is in a float type, so no need to reformat them\n",
    "> - Data is more complete only recently \n",
    "> - Some countries may be missing\n",
    "> - School years and HDI only have collected data until 2015"
   ]
  },
  {
   "cell_type": "code",
   "execution_count": null,
   "metadata": {},
   "outputs": [],
   "source": [
    "# Female family workers\n",
    "df_female.info()"
   ]
  },
  {
   "cell_type": "code",
   "execution_count": null,
   "metadata": {},
   "outputs": [],
   "source": [
    "# Male family workers\n",
    "df_male.info()"
   ]
  },
  {
   "cell_type": "code",
   "execution_count": null,
   "metadata": {},
   "outputs": [],
   "source": [
    "# Income\n",
    "df_income.head()"
   ]
  },
  {
   "cell_type": "code",
   "execution_count": null,
   "metadata": {},
   "outputs": [],
   "source": [
    "# School years\n",
    "df_school.info()"
   ]
  },
  {
   "cell_type": "code",
   "execution_count": null,
   "metadata": {},
   "outputs": [],
   "source": [
    "# HDI\n",
    "df_hdi.info()"
   ]
  },
  {
   "cell_type": "code",
   "execution_count": null,
   "metadata": {},
   "outputs": [],
   "source": []
  },
  {
   "cell_type": "markdown",
   "metadata": {},
   "source": [
    "### Data cleaning and new unified datasets"
   ]
  },
  {
   "cell_type": "markdown",
   "metadata": {},
   "source": [
    "#### Cleaning\n",
    "\n",
    ">So in terms of data:\n",
    "> - In order to have one column by indicator in our newly formed dataset, we will calculate the average of each indicator\n",
    "> - For the first questions, we will calculate the value of indicators by average from 2010 until 2015 (recent overview)\n",
    "> - For the last question, we will calculate the value of indicators by average from 1995 until 2000 (past overview)\n",
    "> - We will then merge all the datasets based on the countries\n",
    "> - We need to check if all countries we want are there\n",
    "> - Filter out countries we do not analyse\n",
    "> - Sanity check for duplicates in the final dataset"
   ]
  },
  {
   "cell_type": "markdown",
   "metadata": {},
   "source": [
    "We will create a loop because each dataset needs to go through the same transformation as they have the same structure. Each dataframe at this step can be described as a matrix of the chosen indicators by country and by year. The final goal in this data wrangling step, as explained in the bullet points above, is to gather all the indicators in one dataset, keep the country dimension and calculate 2 averages over time for each indicators. Then bring all this into one last dataframe containing the 10 chosen countries for this analysis."
   ]
  },
  {
   "cell_type": "code",
   "execution_count": null,
   "metadata": {},
   "outputs": [],
   "source": [
    "# Create a list of dataframes extracted from our csv files in order to wrangle these datasets in the next step\n",
    "list_dataframes = [df_female, df_male, df_income, df_school, df_hdi]\n",
    "\n",
    "\n",
    "# Create function to get the name of a dataframe\n",
    "def get_df_name(df):\n",
    "    name =[x for x in globals() if globals()[x] is df][0]\n",
    "    return name"
   ]
  },
  {
   "cell_type": "code",
   "execution_count": null,
   "metadata": {},
   "outputs": [],
   "source": [
    "# create loop to get from new dataframes from each indicator\n",
    "\n",
    "for i in list_dataframes:\n",
    "\n",
    "    # Prepare naming   \n",
    "    x = get_df_name(i).split(\"_\",2)[1]\n",
    "    # new columns  \n",
    "    y = x + \"_10_15\"\n",
    "    z = x + \"_95_00\"\n",
    "    # new dataframe\n",
    "    df_name = \"df_\"+ x +\"_ind\"\n",
    "    print(df_name)\n",
    "   \n",
    "    # Calculate mean for i indicator from 2010 to 2015 period per country\n",
    "    k = i.loc[:,'2010':'2015'].mean(axis=1).round(2)\n",
    "    # Calculate mean for i indicator from 1995 to 2000 period per country \n",
    "    l = i.loc[:,'1995':'2000'].mean(axis=1).round(2)\n",
    "\n",
    "    # Add means to dataframe\n",
    "    i [y] = k\n",
    "    i [z] = l\n",
    "\n",
    "\n",
    "   # Build a dataframe with only necessary information for our analysis and this indicator \n",
    "    \n",
    "   # Get positions of last columns   \n",
    "    a = i.shape[1]-2\n",
    "    b = i.shape[1]\n",
    "    \n",
    "    # Build our dataframe   \n",
    "    df = i.iloc[:,np.r_[0:1,a:b]]\n",
    "    exec('{} = df'.format(df_name)) #It has been necessary to apply this exec statement in the end of the loop to give the 5 expected dataframes in our output "
   ]
  },
  {
   "cell_type": "code",
   "execution_count": null,
   "metadata": {},
   "outputs": [],
   "source": [
    "# New dataframes to join in one dataframe for our analysis\n",
    "list_new_dfs = [df_female_ind, df_male_ind, df_income_ind, df_school_ind, df_hdi_ind]"
   ]
  },
  {
   "cell_type": "code",
   "execution_count": null,
   "metadata": {},
   "outputs": [],
   "source": [
    "# Merge all the dataframes using reduce() in order to pass the merge function to all elements in the list\n",
    "df_final = functools.reduce(lambda x, y: pd.merge(x, y, on = 'country', how = 'left'), list_new_dfs)\n",
    "df_final.info()"
   ]
  },
  {
   "cell_type": "code",
   "execution_count": null,
   "metadata": {},
   "outputs": [],
   "source": [
    "# Have the column names in order to identify the spelling of each country\n",
    "# If the datasets are neat, we expect it will be the same names in each dataset so that when we merge it on country,\n",
    "# it will not cause any issue\n",
    "df_female.country.unique()"
   ]
  },
  {
   "cell_type": "code",
   "execution_count": null,
   "metadata": {},
   "outputs": [],
   "source": [
    "# List the countries to keep in analysis\n",
    "countries = ['Sweden', 'Belgium','Italy', 'Germany', 'Brazil', 'Senegal', 'India','United States', 'Australia', 'Syria'  ]"
   ]
  },
  {
   "cell_type": "code",
   "execution_count": null,
   "metadata": {},
   "outputs": [],
   "source": [
    "# Clean the final dataframe in order to only keep the countries we selected for the analysis\n",
    "df_countries = df_final[df_final['country'].isin(countries)].reset_index(drop = True)\n",
    "df_countries"
   ]
  },
  {
   "cell_type": "code",
   "execution_count": null,
   "metadata": {},
   "outputs": [],
   "source": [
    "df_final = df_female_ind.merge(df_male_ind, how = 'left', on='country').merge(df_income_ind, how = 'left', on='country').merge(df_school_ind, how = 'left', on='country').merge(df_hdi_ind, how = 'left', on='country')"
   ]
  },
  {
   "cell_type": "code",
   "execution_count": null,
   "metadata": {},
   "outputs": [],
   "source": [
    "# Check for duplicates\n",
    "df_countries[df_countries.duplicated()].count()"
   ]
  },
  {
   "cell_type": "code",
   "execution_count": null,
   "metadata": {},
   "outputs": [],
   "source": [
    "df_final"
   ]
  },
  {
   "cell_type": "markdown",
   "metadata": {},
   "source": [
    ">All is ready to go on to the exploration step in the project with the newly formed dataset **df_countries**"
   ]
  },
  {
   "cell_type": "code",
   "execution_count": null,
   "metadata": {},
   "outputs": [],
   "source": [
    "df_final.describe()"
   ]
  },
  {
   "cell_type": "code",
   "execution_count": null,
   "metadata": {},
   "outputs": [],
   "source": []
  },
  {
   "cell_type": "markdown",
   "metadata": {},
   "source": [
    "<a id='eda'></a>\n",
    "## Exploratory Data Analysis"
   ]
  },
  {
   "cell_type": "markdown",
   "metadata": {},
   "source": [
    "### Preliminary observations"
   ]
  },
  {
   "cell_type": "code",
   "execution_count": null,
   "metadata": {},
   "outputs": [],
   "source": [
    "# Info about dataframe\n",
    "df_countries.info()"
   ]
  },
  {
   "cell_type": "code",
   "execution_count": null,
   "metadata": {},
   "outputs": [],
   "source": [
    "# Get insights about the dataframe we will for our analysis\n",
    "df_countries.describe()"
   ]
  },
  {
   "cell_type": "code",
   "execution_count": null,
   "metadata": {},
   "outputs": [],
   "source": [
    "# Split the dataframe into recent and past indicators\n",
    "\n",
    "# Dataframe with recent indicators\n",
    "df_countries_recent = df_countries.iloc[:,np.r_[0,np.arange(1,11,2)]] \n",
    "# Dataframe with past indicators\n",
    "df_countries_past = df_countries.iloc[:,np.r_[np.arange(0,12,2)]]"
   ]
  },
  {
   "cell_type": "code",
   "execution_count": null,
   "metadata": {},
   "outputs": [],
   "source": [
    "# quick check to see if these are the columns we expect for each time period\n",
    "print(df_countries_recent.columns)\n",
    "print(df_countries_past.columns)"
   ]
  },
  {
   "cell_type": "code",
   "execution_count": null,
   "metadata": {},
   "outputs": [],
   "source": [
    "cols = [col for col in df_countries.columns if '_10_15' in col]\n",
    "print(list(df_countries.columns))\n",
    "print (cols)"
   ]
  },
  {
   "cell_type": "code",
   "execution_count": null,
   "metadata": {},
   "outputs": [],
   "source": [
    "# Split the dataframe into recent and past indicators\n",
    "\n",
    "# Indicators recent time period\n",
    "recent_ind = [col for col in df_countries.columns if '_10_15' in col]\n",
    "recent_ind.insert(0,'country')\n",
    "print(recent_ind)\n",
    "\n",
    "# Indicators past time period\n",
    "past_ind = [col for col in df_countries.columns if '_95_00' in col]\n",
    "past_ind.insert(0,'country')\n",
    "print(past_ind)"
   ]
  },
  {
   "cell_type": "code",
   "execution_count": null,
   "metadata": {},
   "outputs": [],
   "source": [
    "np.arange(1,11,2)"
   ]
  },
  {
   "cell_type": "code",
   "execution_count": null,
   "metadata": {
    "scrolled": true
   },
   "outputs": [],
   "source": [
    "df_countries.iloc[:,np.r_[0,np.arange(1,11,2)]]"
   ]
  },
  {
   "cell_type": "markdown",
   "metadata": {},
   "source": [
    "\n",
    "### Research question 1: \n",
    "#### What are the factors that give a stronger chance to a country to count more family female workers?\n",
    "\n",
    "_Note: for this question, we consider the indicators in the recent period dataframe_\n",
    "\n",
    "Sub-questions:\n",
    "1. How are the list of 10 countries ranked based on % of female workers (% based on total female employement) ?\n",
    "2. Which indicator has a highest average correlation with # of female workers ?\n",
    "3. What is the female/male ratio of family workers ?\n",
    "4. What level of income/hdi for most equal ratio of female/male family workers ?\n"
   ]
  },
  {
   "cell_type": "code",
   "execution_count": null,
   "metadata": {},
   "outputs": [],
   "source": [
    "# Let's answer question 1 (we look at recent rates - so indicator = female_10_15)\n",
    "# How are the list of 10 countries ranked based on % of female workers (% based on total female employement) ?\n",
    "df_countries_recent.iloc[:,0:2].sort_values(by = 'female_10_15', ascending = False)"
   ]
  },
  {
   "cell_type": "markdown",
   "metadata": {},
   "source": [
    "> Interesting... It looks like % of female family workers over the total female employment is much higher in emerging countries than in developped countries !"
   ]
  },
  {
   "cell_type": "code",
   "execution_count": null,
   "metadata": {},
   "outputs": [],
   "source": [
    "# Question 2: Which indicator has a highest average correlation with # of female workers ?\n",
    "df_countries_recent.corr(method = 'pearson').iloc[:,0:1].nlargest(10, columns = 'female_10_15')"
   ]
  },
  {
   "cell_type": "code",
   "execution_count": null,
   "metadata": {},
   "outputs": [],
   "source": [
    "df_countries.columns"
   ]
  },
  {
   "cell_type": "markdown",
   "metadata": {},
   "source": [
    "> This correlation table gives us great insights regarding how the indicators relate to the % of female family workers/female workers. \n",
    "> 1. The indicator that correlates the strongest to % female family workers is the mean years at school (negative     correlation), so that tells us that a country that offers more school years sees less female family workers\n",
    "> 2. Inthe same sense, a country with larger Income and Human Development Index observes less female family workers\n",
    "> 3. On the countrary, a country that has a higher number of male family workers correlates with more female family workers"
   ]
  },
  {
   "cell_type": "code",
   "execution_count": null,
   "metadata": {},
   "outputs": [],
   "source": [
    "recent_ind"
   ]
  },
  {
   "cell_type": "code",
   "execution_count": null,
   "metadata": {},
   "outputs": [],
   "source": [
    "df_countries_past"
   ]
  },
  {
   "cell_type": "code",
   "execution_count": null,
   "metadata": {},
   "outputs": [],
   "source": [
    "df_countries_recent.plot('female_10_15','male_10_15',kind = 'scatter');"
   ]
  },
  {
   "cell_type": "code",
   "execution_count": null,
   "metadata": {},
   "outputs": [],
   "source": [
    "# Question 3: What is the female/male ratio of family workers ?\n",
    "df_countries_recent['male/female_10_15'] = (df_countries_recent['male_10_15']/df_countries_recent['female_10_15']).round(2)"
   ]
  },
  {
   "cell_type": "code",
   "execution_count": null,
   "metadata": {},
   "outputs": [],
   "source": [
    "df_countries_recent"
   ]
  },
  {
   "cell_type": "markdown",
   "metadata": {},
   "source": [
    "> Sweden is far ahead the country that shows a most equal gender distribution of family workers. What is surprising is that a developed country like Germany has a same ratio of male/female workers as an emerging country like Brazil. What does this really tell us? So Far we have observed that developed countries tend to have less female family workers. What we find here is that male family workers are even more rare. "
   ]
  },
  {
   "cell_type": "code",
   "execution_count": null,
   "metadata": {},
   "outputs": [],
   "source": [
    "# Question 4: What level of income/hdi for most equal ratio of female/male family workers ?\n",
    "df_countries_recent.query('country == \"Sweden\"').iloc[:,np.r_[3,5]]\n"
   ]
  },
  {
   "cell_type": "code",
   "execution_count": null,
   "metadata": {},
   "outputs": [],
   "source": [
    "# Let's see how it compares when we group developed countries and emerging countries"
   ]
  },
  {
   "cell_type": "code",
   "execution_count": null,
   "metadata": {},
   "outputs": [],
   "source": [
    "# developed countries \n",
    "dev_countries = ['Sweden', 'Belgium','Italy', 'Germany','United States', 'Australia']\n",
    "# emerging countries\n",
    "em_countries = ['Brazil', 'Senegal', 'India', 'Syria']\n",
    "\n",
    "# Dataframes for developed and emerging countries\n",
    "df_dev_countries_recent = df_countries_recent[df_countries_recent['country'].isin(dev_countries)]\n",
    "df_em_countries_recent = df_countries_recent[df_countries_recent['country'].isin(em_countries)]"
   ]
  },
  {
   "cell_type": "code",
   "execution_count": null,
   "metadata": {},
   "outputs": [],
   "source": [
    "# df_countries_recent['country_level'] = df['country'].apply(lambda x: 'developed' if x in dev_countries else 'emerging')\n",
    "df_countries.loc[df_countries.country.isin(dev_countries), 'country_level'] = 'developed' \n",
    "df_countries.loc[df_countries.country.isin(em_countries), 'country_level'] = 'emerging' \n",
    "\n"
   ]
  },
  {
   "cell_type": "code",
   "execution_count": null,
   "metadata": {},
   "outputs": [],
   "source": [
    "df_countries"
   ]
  },
  {
   "cell_type": "code",
   "execution_count": null,
   "metadata": {},
   "outputs": [],
   "source": [
    "df_countries_recent"
   ]
  },
  {
   "cell_type": "code",
   "execution_count": null,
   "metadata": {},
   "outputs": [],
   "source": [
    "df_dev_countries_recent.agg({'income_10_15': np.mean, 'hdi_10_15': np.mean, 'male/female_10_15': np.mean})"
   ]
  },
  {
   "cell_type": "code",
   "execution_count": null,
   "metadata": {},
   "outputs": [],
   "source": [
    "df_em_countries_recent.agg({'income_10_15': np.mean, 'hdi_10_15': np.mean,'male/female_10_15': np.mean})"
   ]
  },
  {
   "cell_type": "markdown",
   "metadata": {},
   "source": [
    "### Research question 2:\n",
    "#### How did female/male ratio of family workers evolved in developed countries in the past vs. today ?"
   ]
  },
  {
   "cell_type": "code",
   "execution_count": null,
   "metadata": {},
   "outputs": [],
   "source": [
    "# Continue to explore the data to address your additional research\n",
    "#   questions. Add more headers as needed if you have more questions to\n",
    "#   investigate.\n"
   ]
  },
  {
   "cell_type": "markdown",
   "metadata": {},
   "source": [
    "<a id='conclusions'></a>\n",
    "## Conclusions\n",
    "\n",
    "> **Tip**: Finally, summarize your findings and the results that have been performed. Make sure that you are clear with regards to the limitations of your exploration. If you haven't done any statistical tests, do not imply any statistical conclusions. And make sure you avoid implying causation from correlation!\n",
    "\n",
    "> **Tip**: Once you are satisfied with your work, you should save a copy of the report in HTML or PDF form via the **File** > **Download as** submenu. Before exporting your report, check over it to make sure that the flow of the report is complete. You should probably remove all of the \"Tip\" quotes like this one so that the presentation is as tidy as possible. Congratulations!"
   ]
  },
  {
   "cell_type": "code",
   "execution_count": null,
   "metadata": {},
   "outputs": [],
   "source": []
  }
 ],
 "metadata": {
  "kernelspec": {
   "display_name": "Python 3",
   "language": "python",
   "name": "python3"
  },
  "language_info": {
   "codemirror_mode": {
    "name": "ipython",
    "version": 3
   },
   "file_extension": ".py",
   "mimetype": "text/x-python",
   "name": "python",
   "nbconvert_exporter": "python",
   "pygments_lexer": "ipython3",
   "version": "3.7.4"
  }
 },
 "nbformat": 4,
 "nbformat_minor": 2
}
