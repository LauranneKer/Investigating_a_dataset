{
 "cells": [
  {
   "cell_type": "markdown",
   "metadata": {},
   "source": [
    "# Project: What promotes higher rates of family female workers?\n",
    "\n",
    "## Table of Contents\n",
    "<ul>\n",
    "<li><a href=\"#intro\">Introduction</a></li>\n",
    "<li><a href=\"#wrangling\">Data Wrangling</a></li>\n",
    "<li><a href=\"#eda\">Exploratory Data Analysis</a></li>\n",
    "<li><a href=\"#conclusions\">Conclusions</a></li>\n",
    "</ul>"
   ]
  },
  {
   "cell_type": "markdown",
   "metadata": {},
   "source": [
    "<a id='intro'></a>\n",
    "## Introduction\n",
    "\n",
    "In this project, we are going to _analyse the impact of several indicators on the number of family female workers_. The data is extracted from [GapMinder](https://www.gapminder.org/data/).\n",
    "\n",
    "The purpose of this analysis is to understand:\n",
    "- What are the factors that give a stronger chance to a country to count more family female workers? \n",
    "- How did the female/male family workers ratio evolve over time in developed and emerging countries?\n",
    "\n",
    "In this perspective, we will analyse _economy, education, equality and society_ indicators to estimate their effect on the rate of female family workers. We are going to select 10 countries around the world to frame this analysis."
   ]
  },
  {
   "cell_type": "markdown",
   "metadata": {},
   "source": [
    "####  Scope"
   ]
  },
  {
   "cell_type": "markdown",
   "metadata": {},
   "source": [
    "> The 10 countries we will keep in the dataset for this analysis are:\n",
    "1. Sweden\n",
    "2. Germany\n",
    "3. Belgium\n",
    "4. Italy\n",
    "5. Senegal\n",
    "6. India\n",
    "7. USA\n",
    "8. Brasil\n",
    "9. Syria\n",
    "10. Australia"
   ]
  },
  {
   "cell_type": "markdown",
   "metadata": {},
   "source": [
    "#### Questions"
   ]
  },
  {
   "cell_type": "markdown",
   "metadata": {},
   "source": [
    "In this analysis, we will attempt to answer the following detailed questions:\n",
    "\n",
    "1. How are the list of 10 countries ranked based on # of female workers ?\n",
    "2. Which indicator has a highest average correlation with # of female workers ? \n",
    "3. What is the male/female ratio of family workers ?\n",
    "4. What level of income/Aid for most equal ratio of male/female family workers ?\n",
    "5. How did male/female ratio of family workers evolved in Belgium and Italy in the past vs. today ?"
   ]
  },
  {
   "cell_type": "markdown",
   "metadata": {},
   "source": [
    "#### Data collection"
   ]
  },
  {
   "cell_type": "markdown",
   "metadata": {},
   "source": [
    "> **Datasets**: we have downloaded 5 datasets from GapMinder in order to perform this analysis:\n",
    ">\n",
    "> - Female Family workers\n",
    "> - Male Family workers\n",
    "> - Income\n",
    "> - Gender ratio of mean years at school (25 - 34 years)\n",
    "> - Human development Index"
   ]
  },
  {
   "cell_type": "code",
   "execution_count": null,
   "metadata": {},
   "outputs": [],
   "source": [
    "# import packages\n",
    "import pandas as pd\n",
    "import matplotlib.pyplot as plt\n",
    "import numpy as np\n",
    "import functools \n",
    "%matplotlib inline\n",
    "\n",
    "# import datasets\n",
    "df_female = pd.read_csv('female_family_workers_percent_of_female_employment.csv')\n",
    "df_male = pd.read_csv('male_family_workers_percent_of_male_employment.csv')\n",
    "df_income = pd.read_csv('income_per_person_gdppercapita_ppp_inflation_adjusted.csv')\n",
    "df_school = pd.read_csv('mean_years_in_school_women_percent_men_25_to_34_years.csv')\n",
    "df_hdi = pd.read_csv('hdi_human_development_index.csv')"
   ]
  },
  {
   "cell_type": "markdown",
   "metadata": {},
   "source": [
    "<a id='wrangling'></a>\n",
    "## Data Wrangling"
   ]
  },
  {
   "cell_type": "markdown",
   "metadata": {},
   "source": [
    "#### Assessment\n",
    "> Let's check each of these dataframes info, we noticed:\n",
    "> - All these datasets look like they have the same structure: countries in rows and years in columns\n",
    "> - Indicator data is in a float type, so no need to reformat them\n",
    "> - Data is more complete only recently \n",
    "> - Some countries may be missing\n",
    "> - School years and HDI only have collected data until 2015"
   ]
  },
  {
   "cell_type": "code",
   "execution_count": null,
   "metadata": {},
   "outputs": [],
   "source": [
    "# Female family workers\n",
    "df_female.info()"
   ]
  },
  {
   "cell_type": "code",
   "execution_count": null,
   "metadata": {},
   "outputs": [],
   "source": [
    "# Male family workers\n",
    "df_male.info()"
   ]
  },
  {
   "cell_type": "code",
   "execution_count": null,
   "metadata": {},
   "outputs": [],
   "source": [
    "# Income\n",
    "df_income.head()"
   ]
  },
  {
   "cell_type": "code",
   "execution_count": null,
   "metadata": {},
   "outputs": [],
   "source": [
    "# School years\n",
    "df_school.info()"
   ]
  },
  {
   "cell_type": "code",
   "execution_count": null,
   "metadata": {},
   "outputs": [],
   "source": [
    "# HDI\n",
    "df_hdi.info()"
   ]
  },
  {
   "cell_type": "code",
   "execution_count": null,
   "metadata": {},
   "outputs": [],
   "source": []
  },
  {
   "cell_type": "markdown",
   "metadata": {},
   "source": [
    "### Data cleaning and new unified datasets"
   ]
  },
  {
   "cell_type": "markdown",
   "metadata": {},
   "source": [
    "#### Cleaning\n",
    "\n",
    ">So in terms of data:\n",
    "> - In order to have one column by indicator in our newly formed dataset, we will calculate the average of each indicator\n",
    "> - For the first questions, we will calculate the value of indicators by average from 2010 until 2015 (recent overview)\n",
    "> - For the last question, we will calculate the value of indicators by average from 1995 until 2000 (past overview)\n",
    "> - We will then merge all the datasets based on the countries\n",
    "> - We need to check if all countries we want are there\n",
    "> - Filter out countries we do not analyse\n",
    "> - Sanity check for duplicates in the final dataset"
   ]
  },
  {
   "cell_type": "markdown",
   "metadata": {},
   "source": [
    "We will create a loop because each dataset needs to go through the same transformation as they have the same structure. Each dataframe at this step can be described as a matrix of the chosen indicators by country and by year. The final goal in this data wrangling step, as explained in the bullet points above, is to gather all the indicators in one dataset, keep the country dimension and calculate 2 averages over time for each indicators. Then bring all this into one last dataframe containing the 10 chosen countries for this analysis."
   ]
  },
  {
   "cell_type": "code",
   "execution_count": null,
   "metadata": {},
   "outputs": [],
   "source": [
    "# Create a list of dataframes extracted from our csv files in order to wrangle these datasets in the next step\n",
    "list_dataframes = [df_female, df_male, df_income, df_school, df_hdi]\n",
    "\n",
    "\n",
    "# Create function to get the name of a dataframe\n",
    "def get_df_name(df):\n",
    "    name =[x for x in globals() if globals()[x] is df][0]\n",
    "    return name"
   ]
  },
  {
   "cell_type": "code",
   "execution_count": null,
   "metadata": {},
   "outputs": [],
   "source": [
    "# create loop to get from new dataframes from each indicator\n",
    "\n",
    "for i in list_dataframes:\n",
    "\n",
    "    # Prepare naming   \n",
    "    x = get_df_name(i).split(\"_\",2)[1]\n",
    "    # new columns  \n",
    "    y = x + \"_10_15\"\n",
    "    z = x + \"_95_00\"\n",
    "    # new dataframe\n",
    "    df_name = \"df_\"+ x +\"_ind\"\n",
    "    print(df_name)\n",
    "   \n",
    "    # Calculate mean for i indicator from 2010 to 2015 period per country\n",
    "    k = i.loc[:,'2010':'2015'].mean(axis=1).round(2)\n",
    "    # Calculate mean for i indicator from 1995 to 2000 period per country \n",
    "    l = i.loc[:,'1995':'2000'].mean(axis=1).round(2)\n",
    "\n",
    "    # Add means to dataframe\n",
    "    i [y] = k\n",
    "    i [z] = l\n",
    "\n",
    "\n",
    "   # Build a dataframe with only necessary information for our analysis and this indicator \n",
    "    \n",
    "   # Get positions of last columns   \n",
    "    a = i.shape[1]-2\n",
    "    b = i.shape[1]\n",
    "    \n",
    "    # Build our dataframe   \n",
    "    df = i.iloc[:,np.r_[0:1,a:b]]\n",
    "    exec('{} = df'.format(df_name)) #It has been necessary to apply this exec statement in the end of the loop to give the 5 expected dataframes in our output "
   ]
  },
  {
   "cell_type": "code",
   "execution_count": null,
   "metadata": {},
   "outputs": [],
   "source": [
    "# New dataframes to join in one dataframe for our analysis\n",
    "list_new_dfs = [df_female_ind, df_male_ind, df_income_ind, df_school_ind, df_hdi_ind]"
   ]
  },
  {
   "cell_type": "code",
   "execution_count": null,
   "metadata": {},
   "outputs": [],
   "source": [
    "# Merge all the dataframes using reduce() in order to pass the merge function to all elements in the list\n",
    "df_final = functools.reduce(lambda x, y: pd.merge(x, y, on = 'country', how = 'left'), list_new_dfs)\n",
    "df_final.info()"
   ]
  },
  {
   "cell_type": "code",
   "execution_count": null,
   "metadata": {},
   "outputs": [],
   "source": [
    "# Have the column names in order to identify the spelling of each country\n",
    "# If the datasets are neat, we expect it will be the same names in each dataset so that when we merge it on country,\n",
    "# it will not cause any issue\n",
    "df_female.country.unique()"
   ]
  },
  {
   "cell_type": "code",
   "execution_count": null,
   "metadata": {},
   "outputs": [],
   "source": [
    "# List the countries to keep in analysis\n",
    "countries = ['Sweden', 'Belgium','Italy', 'Germany', 'Brazil', 'Senegal', 'India','United States', 'Australia', 'Syria'  ]"
   ]
  },
  {
   "cell_type": "code",
   "execution_count": null,
   "metadata": {},
   "outputs": [],
   "source": [
    "# Clean the final dataframe in order to only keep the countries we selected for the analysis\n",
    "df_countries = df_final[df_final['country'].isin(countries)].reset_index(drop = True)\n",
    "df_countries"
   ]
  },
  {
   "cell_type": "code",
   "execution_count": null,
   "metadata": {},
   "outputs": [],
   "source": [
    "df_final = df_female_ind.merge(df_male_ind, how = 'left', on='country').merge(df_income_ind, how = 'left', on='country').merge(df_school_ind, how = 'left', on='country').merge(df_hdi_ind, how = 'left', on='country')"
   ]
  },
  {
   "cell_type": "code",
   "execution_count": null,
   "metadata": {},
   "outputs": [],
   "source": [
    "# Check for duplicates\n",
    "df_countries[df_countries.duplicated()].count()"
   ]
  },
  {
   "cell_type": "code",
   "execution_count": null,
   "metadata": {},
   "outputs": [],
   "source": [
    "df_final"
   ]
  },
  {
   "cell_type": "markdown",
   "metadata": {},
   "source": [
    ">All is ready to go on to the exploration step in the project with the newly formed dataset **df_countries**"
   ]
  },
  {
   "cell_type": "code",
   "execution_count": null,
   "metadata": {},
   "outputs": [],
   "source": [
    "df_final.describe()"
   ]
  },
  {
   "cell_type": "code",
   "execution_count": null,
   "metadata": {},
   "outputs": [],
   "source": []
  },
  {
   "cell_type": "markdown",
   "metadata": {},
   "source": [
    "<a id='eda'></a>\n",
    "## Exploratory Data Analysis"
   ]
  },
  {
   "cell_type": "markdown",
   "metadata": {},
   "source": [
    "### Preliminary observations"
   ]
  },
  {
   "cell_type": "code",
   "execution_count": null,
   "metadata": {},
   "outputs": [],
   "source": [
    "# Info about dataframe\n",
    "df_countries.info()"
   ]
  },
  {
   "cell_type": "code",
   "execution_count": null,
   "metadata": {},
   "outputs": [],
   "source": [
    "# Get insights about the dataframe we will for our analysis\n",
    "df_countries.describe()"
   ]
  },
  {
   "cell_type": "code",
   "execution_count": null,
   "metadata": {},
   "outputs": [],
   "source": [
    "# Split the dataframe into recent and past indicators\n",
    "\n",
    "# Dataframe with recent indicators\n",
    "df_countries_recent = df_countries.iloc[:,np.r_[0,np.arange(1,11,2)]].reset_index(drop = True)\n",
    "# Dataframe with past indicators\n",
    "df_countries_past = df_countries.iloc[:,np.r_[np.arange(0,12,2)]].reset_index(drop = True)"
   ]
  },
  {
   "cell_type": "code",
   "execution_count": null,
   "metadata": {},
   "outputs": [],
   "source": [
    "# quick check to see if these are the columns we expect for each time period\n",
    "print(df_countries_recent.columns)\n",
    "print(df_countries_past.columns)"
   ]
  },
  {
   "cell_type": "markdown",
   "metadata": {},
   "source": [
    "\n",
    "### Research question 1: \n",
    "#### What are the factors that give a stronger chance to a country to count more family female workers?\n",
    "\n",
    "_Note: for this question, we consider the indicators in the recent period dataframe_\n",
    "\n",
    "Sub-questions:\n",
    "1. How are the list of 10 countries ranked based on % of female workers (% based on total female employement) ?\n",
    "2. Which indicator has a highest average correlation with # of female workers ?\n",
    "3. What is the female/male ratio of family workers ?\n",
    "4. What level of income/hdi for most equal ratio of female/male family workers ?\n"
   ]
  },
  {
   "cell_type": "code",
   "execution_count": null,
   "metadata": {},
   "outputs": [],
   "source": [
    "# Let's answer question 1 (we look at recent rates - so indicator = female_10_15)\n",
    "# How are the list of 10 countries ranked based on % of female workers (% based on total female employement) ?\n",
    "df_countries_recent.iloc[:,0:2].sort_values(by = 'female_10_15', ascending = False)"
   ]
  },
  {
   "cell_type": "markdown",
   "metadata": {},
   "source": [
    "> Interesting... It looks like % of female family workers over the total female employment is much higher in emerging countries than in developped countries !"
   ]
  },
  {
   "cell_type": "code",
   "execution_count": null,
   "metadata": {},
   "outputs": [],
   "source": [
    "# Question 2: Which indicator has a highest average correlation with # of female workers ?\n",
    "df_countries_recent.corr(method = 'pearson').iloc[:,0:1].nlargest(10, columns = 'female_10_15')"
   ]
  },
  {
   "cell_type": "markdown",
   "metadata": {},
   "source": [
    "> This correlation table gives us great insights regarding how the indicators relate to the % of female family workers/female workers. \n",
    "> 1. The indicator that correlates the strongest to % female family workers is the mean years at school (negative     correlation), so that tells us that a country that offers more school years sees less female family workers\n",
    "> 2. In the same sense, a country with larger Income and Human Development Index observes less female family workers\n",
    "> 3. On the countrary, a country that has a higher number of male family workers correlates with more female family workers"
   ]
  },
  {
   "cell_type": "code",
   "execution_count": null,
   "metadata": {},
   "outputs": [],
   "source": [
    "# Question 3: What is the female/male ratio of family workers ?\n",
    "df_countries_recent['male/female_10_15'] = (df_countries_recent['male_10_15']/df_countries_recent['female_10_15']).round(2)"
   ]
  },
  {
   "cell_type": "code",
   "execution_count": null,
   "metadata": {},
   "outputs": [],
   "source": [
    "df_countries_recent"
   ]
  },
  {
   "cell_type": "markdown",
   "metadata": {},
   "source": [
    "> Sweden is far ahead the country that shows a most equal gender distribution of family workers. What is surprising is that a developed country like Germany has a same ratio of male/female workers as an emerging country like Brazil. What does this really tell us? So Far we have observed that developed countries tend to have less female family workers. What we find here is that male family workers are even fewer. "
   ]
  },
  {
   "cell_type": "code",
   "execution_count": null,
   "metadata": {},
   "outputs": [],
   "source": [
    "# Question 4: What level of income/hdi for most equal ratio of female/male family workers ?\n",
    "df_countries_recent.query('country == \"Sweden\"').iloc[:,np.r_[3,5]]\n"
   ]
  },
  {
   "cell_type": "code",
   "execution_count": null,
   "metadata": {},
   "outputs": [],
   "source": [
    "# Let's see how it compares when we group developed countries and emerging countries\n",
    "\n",
    "# developed countries \n",
    "dev_countries = ['Sweden', 'Belgium','Italy', 'Germany','United States', 'Australia']\n",
    "# emerging countries\n",
    "em_countries = ['Brazil', 'Senegal', 'India', 'Syria']\n",
    "\n",
    "# New dimension 'country_level' for developed and emerging countries\n",
    "df_countries_recent.loc[df_countries_recent.country.isin(dev_countries), 'country_level'] = 'developed' \n",
    "df_countries_recent.loc[df_countries_recent.country.isin(em_countries), 'country_level'] = 'emerging' "
   ]
  },
  {
   "cell_type": "code",
   "execution_count": null,
   "metadata": {},
   "outputs": [],
   "source": [
    "# Check the new dimension\n",
    "df_countries_recent"
   ]
  },
  {
   "cell_type": "code",
   "execution_count": null,
   "metadata": {},
   "outputs": [],
   "source": [
    "# Look at mean income, HDI and male/female family workers ratio by developed and emerging country\n",
    "df_countries_recent.groupby('country_level').agg({'income_10_15': np.mean, 'hdi_10_15': np.mean,'male/female_10_15': np.mean}).round(2)"
   ]
  },
  {
   "cell_type": "markdown",
   "metadata": {},
   "source": [
    "> The level of income and HDI are defnitely high in Sweden, where the Male/female family worker ratio is the most 'equal'. In sweden, there are as many male family workers as female family workers in percent of total workers by gender. We see that for other developed countries the ratio does not especially show a more equal balance than in emerging countries. So despite that developed countries have generally higher Income and HDI, they do not especially have as many male as female family workers. \n",
    "> On average though, higher income and HDI still shows that there is a progress toward a more equal balance of female and male family workers."
   ]
  },
  {
   "cell_type": "markdown",
   "metadata": {},
   "source": [
    "### Research question 2:\n",
    "#### How did female/male ratio of family workers evolved in developed and emerging countries in the past vs. today ?"
   ]
  },
  {
   "cell_type": "code",
   "execution_count": null,
   "metadata": {},
   "outputs": [],
   "source": [
    "# We have already checked on developed vs. emerging countries in the previous step\n",
    "\n",
    "# Let's add the male/female ratio for this dataset\n",
    "df_countries_past['male/female_95_00'] = (df_countries_past['male_95_00']/df_countries_past['female_95_00']).round(2)\n",
    "# Let's create the 'country_level' dimension for the df_countries_past dataframe\n",
    "df_countries_past.loc[df_countries_past.country.isin(dev_countries), 'country_level'] = 'developed' \n",
    "df_countries_past.loc[df_countries_past.country.isin(em_countries), 'country_level'] = 'emerging' \n"
   ]
  },
  {
   "cell_type": "code",
   "execution_count": null,
   "metadata": {},
   "outputs": [],
   "source": [
    "# Check the dataframe\n",
    "df_countries_past"
   ]
  },
  {
   "cell_type": "markdown",
   "metadata": {},
   "source": [
    "> We already see that we do not have the data for 2 of the emerging countries"
   ]
  },
  {
   "cell_type": "code",
   "execution_count": null,
   "metadata": {},
   "outputs": [],
   "source": [
    "# let's check the mean of indicators for the past\n",
    "df_countries_past.groupby('country_level').mean()"
   ]
  },
  {
   "cell_type": "code",
   "execution_count": null,
   "metadata": {},
   "outputs": [],
   "source": [
    "# let's check the mean of indicators for the recent years\n",
    "df_countries_recent.groupby('country_level').mean()"
   ]
  },
  {
   "cell_type": "markdown",
   "metadata": {},
   "source": [
    "> We really see a strong evolution in developed countries where now there is less family workers in general but the balance between men and women has a better equilibrium. However, the evolution in emerging countries is much slower it seems but going in the same direction"
   ]
  },
  {
   "cell_type": "markdown",
   "metadata": {},
   "source": [
    "<a id='conclusions'></a>\n",
    "## Conclusions"
   ]
  },
  {
   "cell_type": "markdown",
   "metadata": {},
   "source": [
    "### General question 1: \n",
    "#### What are the factors that give a stronger chance to a country to count more family female workers?"
   ]
  },
  {
   "cell_type": "markdown",
   "metadata": {},
   "source": [
    "#### Conclusion: \n",
    "\n",
    "The end of the study in our analysis show a tremendous difference between developed and emerging countries. Developed countries tend to have much less female family workers. With the subquestions that have been addressed in this analysis, the main findings are that:\n",
    "- The % of female family workers over the total female employment is much higher in emerging countries than in developped countries \n",
    "- A country that offers more school years to females proportionally to males sees less female family workers\n",
    "- A country with larger Income and Human Development Index observes less female family workers\n",
    "- A country that has a higher number of male family workers correlates with more female family workers\n",
    "- Sweden is far ahead the country that shows a most equal gender distribution of family workers\n",
    "- On average, higher income and HDI still shows that there is a progress toward a more equal balance of female and male family workers. But Belgium and Germany are not totally following that trend.\n"
   ]
  },
  {
   "cell_type": "code",
   "execution_count": null,
   "metadata": {},
   "outputs": [],
   "source": [
    "# Create bar graph to give context on the Female Family workers indicator\n",
    "Fig, ax = plt.subplots(figsize = (16,5))\n",
    "ax.set_title('% Female family workers per country')\n",
    "ax.set_ylabel('% female family worker/total female workers')\n",
    "female_country = df_countries_recent.iloc[:,0:2].sort_values(by = 'female_10_15', ascending = False).reset_index(drop = True)\n",
    "xvalues = female_country.index\n",
    "yvalues = female_country.female_10_15\n",
    "xlabels = female_country.country\n",
    "\n",
    "plt.bar( xvalues, yvalues, tick_label = xlabels);\n"
   ]
  },
  {
   "cell_type": "code",
   "execution_count": null,
   "metadata": {},
   "outputs": [],
   "source": [
    "# Show table of correlations with all the different indicators\n",
    "df_countries_recent.corr(method = 'pearson').iloc[:,0:1].nlargest(10, columns = 'female_10_15')\n"
   ]
  },
  {
   "cell_type": "markdown",
   "metadata": {},
   "source": [
    "> All the indicators are strongly correlated to % female family workers, which may mean that it could be easily predictable. Let's check if it is the case by showing more results"
   ]
  },
  {
   "cell_type": "code",
   "execution_count": null,
   "metadata": {},
   "outputs": [],
   "source": [
    "# Correlation graph with the strongest potential \"predictor\" of % female family workers\n",
    "Fig, ax = plt.subplots(figsize = (4,4))\n",
    "ax.set_title('Correlation of mean school years with % female family workers')\n",
    "ax.set_ylabel('Gender ratio of mean school years')\n",
    "ax.set_xlabel('% female family worker/total female workers')\n",
    "plt.scatter(df_countries_recent.female_10_15,df_countries_recent.school_10_15,color='b');"
   ]
  },
  {
   "cell_type": "markdown",
   "metadata": {},
   "source": [
    "> There is a strong negative correlation between % female family worker/total female workers and Gender ratio of mean school years. The countries where women go more years to school than men are correlated with less female family workers. And very directly we observe that countries where women go less in school correlate with much more women family workers in this country\n",
    "\n",
    "> Thought: Does it mean that in these countries with less %female family workers, there are less female building families or that females who have families work less? - We do not have data in this analysis about the number of families in a country."
   ]
  },
  {
   "cell_type": "code",
   "execution_count": null,
   "metadata": {},
   "outputs": [],
   "source": [
    "# Male/Female family workers ratio by country\n",
    "Fig, ax = plt.subplots(figsize = (16,5))\n",
    "ax.set_title('Male/Female family workers ratio by country')\n",
    "ax.set_ylabel('Male/Female family workers ratio')\n",
    "male_female_country = df_countries_recent.iloc[:, np.r_[0,6]].sort_values(by = 'male/female_10_15' ,ascending = False).reset_index(drop = True)\n",
    "xvalues = male_female_country.index\n",
    "yvalues = male_female_country['male/female_10_15']\n",
    "xlabels = male_female_country.country\n",
    "\n",
    "plt.bar( xvalues, yvalues, tick_label = xlabels);"
   ]
  },
  {
   "cell_type": "code",
   "execution_count": null,
   "metadata": {},
   "outputs": [],
   "source": [
    "df_level = df_countries_recent.groupby('country_level').agg({'income_10_15': np.mean, 'hdi_10_15': np.mean,'male/female_10_15': np.mean}).round(2)\n",
    "df_level"
   ]
  },
  {
   "cell_type": "code",
   "execution_count": null,
   "metadata": {},
   "outputs": [],
   "source": [
    "# Indicators by country level of development\n",
    "\n",
    "#Set the plots and figures configuration in graph\n",
    "Fig, ax1 = plt.subplots(figsize = (10,5))\n",
    "ax2 = ax1.twinx()\n",
    "\n",
    "\n",
    "#Title and axis labels\n",
    "ax1.set_title('Indicators by country level of development')\n",
    "ax1.set_ylabel('Income')\n",
    "ax2.set_ylabel('HDI and male/female family workers ratio')\n",
    "\n",
    "# X coordinates, x labels and y values\n",
    "xvalues = [1,2]\n",
    "xlabels = df_level.index\n",
    "y1 = df_level.income_10_15\n",
    "y2 = df_level.hdi_10_15\n",
    "y3 = df_level['male/female_10_15']\n",
    "\n",
    "#Plot the whole data\n",
    "w = 0.2\n",
    "a = ax1.bar([0.8,1.8], y1, width=w, color='orange', align='center')\n",
    "b = ax2.bar(xvalues, y2, width=w, color='brown', align='center')\n",
    "c = ax2.bar([1.2,2.2], y3, width=w, color='grey', align='center')\n",
    "\n",
    "#Legend\n",
    "ax1.legend(labels = 'Income', loc = (0.57,0.9))\n",
    "ax2.legend((b[0], c[0]), ('HDI', 'male/female family workers ratio'), loc = (0.57,0.78))\n",
    "plt.show();"
   ]
  },
  {
   "cell_type": "markdown",
   "metadata": {},
   "source": [
    "### General question 2:\n",
    "#### How did male/female ratio of family workers evolved in developed countries in the past vs. today ?"
   ]
  },
  {
   "cell_type": "markdown",
   "metadata": {},
   "source": [
    "##### Conclusion: \n",
    " Developed countries saw the equality of genders in family workers increase along with other things like income, gender ratio of mean school years (years spent by female/male at school), and HDI. According to the analysis for the first question, there are defnitely less female family workers in developed countries but it tends to happen the same to male family workers as a country develops."
   ]
  },
  {
   "cell_type": "code",
   "execution_count": null,
   "metadata": {},
   "outputs": [],
   "source": [
    "# Prepare the data to show in graph\n",
    "df_past = df_countries_past.groupby('country_level').mean().reset_index()\n",
    "df_recent = df_countries_recent.groupby('country_level').mean().reset_index()\n",
    "df_past_dev = df_past[df_past['country_level'] == \"developed\"]\n",
    "df_recent_dev = df_recent[df_recent['country_level'] == \"developed\"]"
   ]
  },
  {
   "cell_type": "code",
   "execution_count": null,
   "metadata": {},
   "outputs": [],
   "source": [
    "# Equality of genders in family workers and the evolution of correlated indicators in developed countries \n",
    "\n",
    "#Set the plots and figures configuration in graph\n",
    "Fig, ax1 = plt.subplots(figsize = (10,5))\n",
    "ax2 = ax1.twinx()\n",
    "\n",
    "\n",
    "#Title and axis labels\n",
    "ax1.set_title('Equality of genders in family workers and the evolution of correlated indicators in developed countries ')\n",
    "ax1.set_ylabel('Income and Gender ratio of mean school years')\n",
    "ax2.set_ylabel('HDI and male/female family workers ratio')\n",
    "\n",
    "# X coordinates, x labels and y values\n",
    "xvalues = [1,2]\n",
    "xlabels = ['1995 to 2000', '2010 to 2015']\n",
    "y1 = [df_past_dev['male/female_95_00'],df_recent_dev['male/female_10_15'] ]\n",
    "y2 = [df_past_dev['income_95_00'],df_recent_dev['income_10_15'] ]\n",
    "y3 = [df_past_dev['school_95_00'],df_recent_dev['school_10_15'] ]\n",
    "y4 = [df_past_dev['hdi_95_00'],df_recent_dev['hdi_10_15'] ]\n",
    "\n",
    "#Plot the whole data\n",
    "w = 0.2\n",
    "a = ax2.plot(xvalues, y1, color='orange')\n",
    "b = ax1.plot(xvalues, y2, color='green')\n",
    "c = ax1.plot(xvalues, y3, color='grey')\n",
    "d = ax2.plot(xvalues, y4, color='blue')\n",
    "\n",
    "#Legend\n",
    "ax1.legend((b[0], c[0]), ('Income', 'Gender ratio of mean school years'), loc = (0.57,0.75))\n",
    "ax2.legend((a[0], d[0]), ('HDI', 'male/female family workers ratio'), loc = (0.57,0.63));"
   ]
  },
  {
   "cell_type": "code",
   "execution_count": null,
   "metadata": {},
   "outputs": [],
   "source": []
  }
 ],
 "metadata": {
  "kernelspec": {
   "display_name": "Python 3",
   "language": "python",
   "name": "python3"
  },
  "language_info": {
   "codemirror_mode": {
    "name": "ipython",
    "version": 3
   },
   "file_extension": ".py",
   "mimetype": "text/x-python",
   "name": "python",
   "nbconvert_exporter": "python",
   "pygments_lexer": "ipython3",
   "version": "3.7.4"
  }
 },
 "nbformat": 4,
 "nbformat_minor": 2
}
