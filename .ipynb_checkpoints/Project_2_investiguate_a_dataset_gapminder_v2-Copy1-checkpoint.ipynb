{
 "cells": [
  {
   "cell_type": "markdown",
   "metadata": {},
   "source": [
    "# Project: What promotes higher rates of family female workers?\n",
    "\n",
    "## Table of Contents\n",
    "<ul>\n",
    "<li><a href=\"#intro\">Introduction</a></li>\n",
    "<li><a href=\"#wrangling\">Data Wrangling</a></li>\n",
    "<li><a href=\"#eda\">Exploratory Data Analysis</a></li>\n",
    "<li><a href=\"#conclusions\">Conclusions</a></li>\n",
    "</ul>"
   ]
  },
  {
   "cell_type": "markdown",
   "metadata": {},
   "source": [
    "<a id='intro'></a>\n",
    "## Introduction\n",
    "\n",
    "In this project, we are going to _analyse the impact of several indicators on the number of family female workers_. The data is extracted from [GapMinder](https://www.gapminder.org/data/).\n",
    "\n",
    "The purpose of this analysis is to understand:\n",
    "- What are the factors that give a stronger chance to a country to count more family female workers? \n",
    "- How did the female/male family workers ratio evolve over time in 2 selected european countries?\n",
    "\n",
    "In this perspective, we will analyse _economy, education, equality and society_ indicators to estimate their effect on the rate of female family workers. We are going to select 10 countries around the world to frame this analysis."
   ]
  },
  {
   "cell_type": "markdown",
   "metadata": {},
   "source": [
    "####  Scope"
   ]
  },
  {
   "cell_type": "markdown",
   "metadata": {},
   "source": [
    "> The 10 countries we will keep in the dataset for this analysis are:\n",
    "1. Sweden\n",
    "2. Germany\n",
    "3. Belgium\n",
    "4. Italy\n",
    "5. Senegal\n",
    "6. India\n",
    "7. USA\n",
    "8. Brasil\n",
    "9. Syria\n",
    "10. Australia"
   ]
  },
  {
   "cell_type": "markdown",
   "metadata": {},
   "source": [
    "#### Questions"
   ]
  },
  {
   "cell_type": "markdown",
   "metadata": {},
   "source": [
    "In this analysis, we will attempt to answer the following detailed questions:\n",
    "\n",
    "1. How are the list of 10 countries ranked based on # of female workers ?\n",
    "2. Which indicator has a highest average positive correlation with # of female workers ? \n",
    "3. What is the female/male ratio of family workers ?\n",
    "4. What level of income/Aid for most equal ratio of female/male family workers ?\n",
    "5. How did female/male ratio of family workers evolved in Belgium and Italy in the past vs. today ?"
   ]
  },
  {
   "cell_type": "markdown",
   "metadata": {},
   "source": [
    "#### Data collection"
   ]
  },
  {
   "cell_type": "markdown",
   "metadata": {},
   "source": [
    "> **Datasets**: we have downloaded 5 datasets from GapMinder in order to perform this analysis:\n",
    ">\n",
    "> - Female Family workers\n",
    "> - Male Family workers\n",
    "> - Income\n",
    "> - Mean years in school\n",
    "> - Human development Index"
   ]
  },
  {
   "cell_type": "code",
   "execution_count": 1,
   "metadata": {},
   "outputs": [],
   "source": [
    "# import packages\n",
    "import pandas as pd\n",
    "import matplotlib.pyplot as plt\n",
    "import numpy as np\n",
    "%matplotlib inline\n",
    "\n",
    "# import datasets\n",
    "df_female = pd.read_csv('female_family_workers_percent_of_female_employment.csv')\n",
    "df_male = pd.read_csv('male_family_workers_percent_of_male_employment.csv')\n",
    "df_income = pd.read_csv('income_per_person_gdppercapita_ppp_inflation_adjusted.csv')\n",
    "df_school = pd.read_csv('mean_years_in_school_women_percent_men_25_to_34_years.csv')\n",
    "df_hdi = pd.read_csv('hdi_human_development_index.csv')"
   ]
  },
  {
   "cell_type": "markdown",
   "metadata": {},
   "source": [
    "<a id='wrangling'></a>\n",
    "## Data Wrangling"
   ]
  },
  {
   "cell_type": "markdown",
   "metadata": {},
   "source": [
    "#### Assessment\n",
    "> Let's check each of these dataframes info, we noticed:\n",
    "> - All these datasets look like they have the same structure: countries in rows and years in columns\n",
    "> - Indicator data is in a float type, so no need to reformat them\n",
    "> - Data is more complete only recently \n",
    "> - Some countries may be missing\n",
    "> - School years and HDI only have collected data until 2015"
   ]
  },
  {
   "cell_type": "code",
   "execution_count": null,
   "metadata": {},
   "outputs": [],
   "source": [
    "# Female family workers\n",
    "df_female.info()"
   ]
  },
  {
   "cell_type": "code",
   "execution_count": null,
   "metadata": {},
   "outputs": [],
   "source": [
    "# Male family workers\n",
    "df_male.info()"
   ]
  },
  {
   "cell_type": "code",
   "execution_count": null,
   "metadata": {},
   "outputs": [],
   "source": [
    "# Income\n",
    "df_income.head()"
   ]
  },
  {
   "cell_type": "code",
   "execution_count": null,
   "metadata": {},
   "outputs": [],
   "source": [
    "# School years\n",
    "df_school.info()"
   ]
  },
  {
   "cell_type": "code",
   "execution_count": null,
   "metadata": {},
   "outputs": [],
   "source": [
    "# HDI\n",
    "df_hdi.info()"
   ]
  },
  {
   "cell_type": "code",
   "execution_count": null,
   "metadata": {},
   "outputs": [],
   "source": [
    "df_female.country.unique()"
   ]
  },
  {
   "cell_type": "markdown",
   "metadata": {},
   "source": [
    "### Data cleaning and new unified datasets"
   ]
  },
  {
   "cell_type": "markdown",
   "metadata": {},
   "source": [
    "#### Cleaning\n",
    "\n",
    ">So in terms of data:\n",
    "> - In order to have one column by indicator in our newly formed dataset, we will calculate the average of each indicator\n",
    "> - For the first questions, we will calculate the value of indicators by average from 2010 until 2015 (recent overview)\n",
    "> - For the last question, we will calculate the value of indicators by average from 1995 until 2000 (past overview)\n",
    "> - We will then merge all the datasets based on the countries\n",
    "> - We need to check if all countries we want are there\n",
    "> - Filter out countries we do not analyse\n",
    "> - Sanity check for duplicates in the final dataset"
   ]
  },
  {
   "cell_type": "code",
   "execution_count": null,
   "metadata": {},
   "outputs": [],
   "source": [
    "# List the countries to keep in analysis\n",
    "countries = ['Sweden', 'Belgium','Italy', 'Germany', 'Brazil', 'Senegal', 'India','United States', 'Australia', 'Syria'  ]\n"
   ]
  },
  {
   "cell_type": "code",
   "execution_count": 17,
   "metadata": {},
   "outputs": [],
   "source": [
    "list_dataframes = [df_female, df_male, df_income, df_school, df_hdi]\n",
    "\n",
    "\n",
    "# Create function to get the name of a dataframe\n",
    "def get_df_name(df):\n",
    "    name =[x for x in globals() if globals()[x] is df][0]\n",
    "    return name"
   ]
  },
  {
   "cell_type": "code",
   "execution_count": 22,
   "metadata": {},
   "outputs": [],
   "source": [
    "# create loop to get from new dataframes from each indicator\n",
    "\n",
    "for i in list_dataframes:\n",
    "\n",
    "    # Prepare naming   \n",
    "    x = get_df_name(i).split(\"_\",2)[1]\n",
    "    # new columns  \n",
    "    y = x + \"_10_15\"\n",
    "    z = x + \"_95_00\"\n",
    "    # new dataframe\n",
    "    df_name = \"df_\"+ x +\"_ind\"\n",
    "   \n",
    "    # Calculate mean for i indicator from 2010 to 2015 period per country\n",
    "    k = i.loc[:,'2010':'2015'].mean(axis=1).round(2)\n",
    "    # Calculate mean for i indicator from 1995 to 2000 period per country \n",
    "    l = i.loc[:,'1995':'2000'].mean(axis=1).round(2)\n",
    "\n",
    "    # Add means to dataframe\n",
    "    i [y] = k\n",
    "    i [z] = l\n",
    "\n",
    "    # Build a dataframe with only necessary information for our analysis and this indicator \n",
    "    \n",
    "    # List of new dataframes     \n",
    "    list_new_df = []\n",
    "   # Get positions of last columns   \n",
    "    a = i.shape[1]-2\n",
    "    b = i.shape[1]\n",
    "    \n",
    "    # Build our dataframe   \n",
    "    df = i.iloc[:,np.r_[0:1,a:b]]\n",
    "    exec('{} = df'.format(df_name))\n",
    "    # Get the new dataframes in a list      \n",
    "    list_new_df.append(df_name)"
   ]
  },
  {
   "cell_type": "code",
   "execution_count": 23,
   "metadata": {},
   "outputs": [
    {
     "data": {
      "text/plain": [
       "['df_hdi_ind']"
      ]
     },
     "execution_count": 23,
     "metadata": {},
     "output_type": "execute_result"
    }
   ],
   "source": [
    "list_new_df"
   ]
  },
  {
   "cell_type": "code",
   "execution_count": 15,
   "metadata": {},
   "outputs": [
    {
     "data": {
      "text/html": [
       "<div>\n",
       "<style scoped>\n",
       "    .dataframe tbody tr th:only-of-type {\n",
       "        vertical-align: middle;\n",
       "    }\n",
       "\n",
       "    .dataframe tbody tr th {\n",
       "        vertical-align: top;\n",
       "    }\n",
       "\n",
       "    .dataframe thead th {\n",
       "        text-align: right;\n",
       "    }\n",
       "</style>\n",
       "<table border=\"1\" class=\"dataframe\">\n",
       "  <thead>\n",
       "    <tr style=\"text-align: right;\">\n",
       "      <th></th>\n",
       "      <th>country</th>\n",
       "      <th>female_10_15</th>\n",
       "      <th>female_95_00</th>\n",
       "    </tr>\n",
       "  </thead>\n",
       "  <tbody>\n",
       "    <tr>\n",
       "      <td>0</td>\n",
       "      <td>Afghanistan</td>\n",
       "      <td>38.60</td>\n",
       "      <td>NaN</td>\n",
       "    </tr>\n",
       "    <tr>\n",
       "      <td>1</td>\n",
       "      <td>Albania</td>\n",
       "      <td>43.98</td>\n",
       "      <td>NaN</td>\n",
       "    </tr>\n",
       "    <tr>\n",
       "      <td>2</td>\n",
       "      <td>Algeria</td>\n",
       "      <td>3.81</td>\n",
       "      <td>NaN</td>\n",
       "    </tr>\n",
       "    <tr>\n",
       "      <td>3</td>\n",
       "      <td>Angola</td>\n",
       "      <td>24.54</td>\n",
       "      <td>NaN</td>\n",
       "    </tr>\n",
       "    <tr>\n",
       "      <td>4</td>\n",
       "      <td>Antigua and Barbuda</td>\n",
       "      <td>NaN</td>\n",
       "      <td>NaN</td>\n",
       "    </tr>\n",
       "    <tr>\n",
       "      <td>...</td>\n",
       "      <td>...</td>\n",
       "      <td>...</td>\n",
       "      <td>...</td>\n",
       "    </tr>\n",
       "    <tr>\n",
       "      <td>166</td>\n",
       "      <td>Venezuela</td>\n",
       "      <td>1.44</td>\n",
       "      <td>1.64</td>\n",
       "    </tr>\n",
       "    <tr>\n",
       "      <td>167</td>\n",
       "      <td>Vietnam</td>\n",
       "      <td>24.42</td>\n",
       "      <td>55.56</td>\n",
       "    </tr>\n",
       "    <tr>\n",
       "      <td>168</td>\n",
       "      <td>Yemen</td>\n",
       "      <td>38.50</td>\n",
       "      <td>0.35</td>\n",
       "    </tr>\n",
       "    <tr>\n",
       "      <td>169</td>\n",
       "      <td>Zambia</td>\n",
       "      <td>52.00</td>\n",
       "      <td>48.13</td>\n",
       "    </tr>\n",
       "    <tr>\n",
       "      <td>170</td>\n",
       "      <td>Zimbabwe</td>\n",
       "      <td>4.72</td>\n",
       "      <td>16.00</td>\n",
       "    </tr>\n",
       "  </tbody>\n",
       "</table>\n",
       "<p>171 rows × 3 columns</p>\n",
       "</div>"
      ],
      "text/plain": [
       "                 country  female_10_15  female_95_00\n",
       "0            Afghanistan         38.60           NaN\n",
       "1                Albania         43.98           NaN\n",
       "2                Algeria          3.81           NaN\n",
       "3                 Angola         24.54           NaN\n",
       "4    Antigua and Barbuda           NaN           NaN\n",
       "..                   ...           ...           ...\n",
       "166            Venezuela          1.44          1.64\n",
       "167              Vietnam         24.42         55.56\n",
       "168                Yemen         38.50          0.35\n",
       "169               Zambia         52.00         48.13\n",
       "170             Zimbabwe          4.72         16.00\n",
       "\n",
       "[171 rows x 3 columns]"
      ]
     },
     "execution_count": 15,
     "metadata": {},
     "output_type": "execute_result"
    }
   ],
   "source": [
    "df_female_ind"
   ]
  },
  {
   "cell_type": "markdown",
   "metadata": {},
   "source": [
    "<a id='eda'></a>\n",
    "## Exploratory Data Analysis\n",
    "\n",
    "> **Tip**: Now that you've trimmed and cleaned your data, you're ready to move on to exploration. Compute statistics and create visualizations with the goal of addressing the research questions that you posed in the Introduction section. It is recommended that you be systematic with your approach. Look at one variable at a time, and then follow it up by looking at relationships between variables.\n",
    "\n",
    "### Research Question 1 (Replace this header name!)"
   ]
  },
  {
   "cell_type": "code",
   "execution_count": null,
   "metadata": {},
   "outputs": [],
   "source": [
    "# Use this, and more code cells, to explore your data. Don't forget to add\n",
    "#   Markdown cells to document your observations and findings.\n"
   ]
  },
  {
   "cell_type": "markdown",
   "metadata": {},
   "source": [
    "### Research Question 2  (Replace this header name!)"
   ]
  },
  {
   "cell_type": "code",
   "execution_count": null,
   "metadata": {},
   "outputs": [],
   "source": [
    "# Continue to explore the data to address your additional research\n",
    "#   questions. Add more headers as needed if you have more questions to\n",
    "#   investigate.\n"
   ]
  },
  {
   "cell_type": "markdown",
   "metadata": {},
   "source": [
    "<a id='conclusions'></a>\n",
    "## Conclusions\n",
    "\n",
    "> **Tip**: Finally, summarize your findings and the results that have been performed. Make sure that you are clear with regards to the limitations of your exploration. If you haven't done any statistical tests, do not imply any statistical conclusions. And make sure you avoid implying causation from correlation!\n",
    "\n",
    "> **Tip**: Once you are satisfied with your work, you should save a copy of the report in HTML or PDF form via the **File** > **Download as** submenu. Before exporting your report, check over it to make sure that the flow of the report is complete. You should probably remove all of the \"Tip\" quotes like this one so that the presentation is as tidy as possible. Congratulations!"
   ]
  },
  {
   "cell_type": "code",
   "execution_count": null,
   "metadata": {},
   "outputs": [],
   "source": []
  }
 ],
 "metadata": {
  "kernelspec": {
   "display_name": "Python 3",
   "language": "python",
   "name": "python3"
  },
  "language_info": {
   "codemirror_mode": {
    "name": "ipython",
    "version": 3
   },
   "file_extension": ".py",
   "mimetype": "text/x-python",
   "name": "python",
   "nbconvert_exporter": "python",
   "pygments_lexer": "ipython3",
   "version": "3.7.4"
  }
 },
 "nbformat": 4,
 "nbformat_minor": 2
}
