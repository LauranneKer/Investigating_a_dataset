{
 "cells": [
  {
   "cell_type": "markdown",
   "metadata": {},
   "source": [
    "# Project: What promotes higher rates of family female workers?\n",
    "\n",
    "## Table of Contents\n",
    "<ul>\n",
    "<li><a href=\"#intro\">Introduction</a></li>\n",
    "<li><a href=\"#wrangling\">Data Wrangling</a></li>\n",
    "<li><a href=\"#eda\">Exploratory Data Analysis</a></li>\n",
    "<li><a href=\"#conclusions\">Conclusions</a></li>\n",
    "</ul>"
   ]
  },
  {
   "cell_type": "markdown",
   "metadata": {},
   "source": [
    "<a id='intro'></a>\n",
    "## Introduction\n",
    "\n",
    "In this project, we are going to _analyse the impact of several indicators on the number of family female workers_. The data is extracted from [GapMinder](https://www.gapminder.org/data/).\n",
    "\n",
    "The purpose of this analysis is to understand:\n",
    "- What are the factors that give a stronger chance to a country to count more family female workers? \n",
    "- How did the female/male family workers ratio evolve over time in developed countries?\n",
    "\n",
    "In this perspective, we will analyse _economy, education, equality and society_ indicators to estimate their effect on the rate of female family workers. We are going to select 10 countries around the world to frame this analysis."
   ]
  },
  {
   "cell_type": "markdown",
   "metadata": {},
   "source": [
    "####  Scope"
   ]
  },
  {
   "cell_type": "markdown",
   "metadata": {},
   "source": [
    "> The 10 countries we will keep in the dataset for this analysis are:\n",
    "1. Sweden\n",
    "2. Germany\n",
    "3. Belgium\n",
    "4. Italy\n",
    "5. Senegal\n",
    "6. India\n",
    "7. USA\n",
    "8. Brasil\n",
    "9. Syria\n",
    "10. Australia"
   ]
  },
  {
   "cell_type": "markdown",
   "metadata": {},
   "source": [
    "#### Questions"
   ]
  },
  {
   "cell_type": "markdown",
   "metadata": {},
   "source": [
    "In this analysis, we will attempt to answer the following detailed questions:\n",
    "\n",
    "1. How are the list of 10 countries ranked based on # of female workers ?\n",
    "2. Which indicator has a highest average correlation with # of female workers ? \n",
    "3. What is the female/male ratio of family workers ?\n",
    "4. What level of income/Aid for most equal ratio of female/male family workers ?\n",
    "5. How did female/male ratio of family workers evolved in Belgium and Italy in the past vs. today ?"
   ]
  },
  {
   "cell_type": "markdown",
   "metadata": {},
   "source": [
    "#### Data collection"
   ]
  },
  {
   "cell_type": "markdown",
   "metadata": {},
   "source": [
    "> **Datasets**: we have downloaded 5 datasets from GapMinder in order to perform this analysis:\n",
    ">\n",
    "> - Female Family workers\n",
    "> - Male Family workers\n",
    "> - Income\n",
    "> - Mean years in school\n",
    "> - Human development Index"
   ]
  },
  {
   "cell_type": "code",
   "execution_count": 1,
   "metadata": {},
   "outputs": [],
   "source": [
    "# import packages\n",
    "import pandas as pd\n",
    "import matplotlib.pyplot as plt\n",
    "import numpy as np\n",
    "import functools \n",
    "%matplotlib inline\n",
    "\n",
    "# import datasets\n",
    "df_female = pd.read_csv('female_family_workers_percent_of_female_employment.csv')\n",
    "df_male = pd.read_csv('male_family_workers_percent_of_male_employment.csv')\n",
    "df_income = pd.read_csv('income_per_person_gdppercapita_ppp_inflation_adjusted.csv')\n",
    "df_school = pd.read_csv('mean_years_in_school_women_percent_men_25_to_34_years.csv')\n",
    "df_hdi = pd.read_csv('hdi_human_development_index.csv')"
   ]
  },
  {
   "cell_type": "markdown",
   "metadata": {},
   "source": [
    "<a id='wrangling'></a>\n",
    "## Data Wrangling"
   ]
  },
  {
   "cell_type": "markdown",
   "metadata": {},
   "source": [
    "#### Assessment\n",
    "> Let's check each of these dataframes info, we noticed:\n",
    "> - All these datasets look like they have the same structure: countries in rows and years in columns\n",
    "> - Indicator data is in a float type, so no need to reformat them\n",
    "> - Data is more complete only recently \n",
    "> - Some countries may be missing\n",
    "> - School years and HDI only have collected data until 2015"
   ]
  },
  {
   "cell_type": "code",
   "execution_count": null,
   "metadata": {},
   "outputs": [],
   "source": [
    "# Female family workers\n",
    "df_female.info()"
   ]
  },
  {
   "cell_type": "code",
   "execution_count": null,
   "metadata": {},
   "outputs": [],
   "source": [
    "# Male family workers\n",
    "df_male.info()"
   ]
  },
  {
   "cell_type": "code",
   "execution_count": null,
   "metadata": {},
   "outputs": [],
   "source": [
    "# Income\n",
    "df_income.head()"
   ]
  },
  {
   "cell_type": "code",
   "execution_count": null,
   "metadata": {},
   "outputs": [],
   "source": [
    "# School years\n",
    "df_school.info()"
   ]
  },
  {
   "cell_type": "code",
   "execution_count": null,
   "metadata": {},
   "outputs": [],
   "source": [
    "# HDI\n",
    "df_hdi.info()"
   ]
  },
  {
   "cell_type": "code",
   "execution_count": null,
   "metadata": {},
   "outputs": [],
   "source": []
  },
  {
   "cell_type": "markdown",
   "metadata": {},
   "source": [
    "### Data cleaning and new unified datasets"
   ]
  },
  {
   "cell_type": "markdown",
   "metadata": {},
   "source": [
    "#### Cleaning\n",
    "\n",
    ">So in terms of data:\n",
    "> - In order to have one column by indicator in our newly formed dataset, we will calculate the average of each indicator\n",
    "> - For the first questions, we will calculate the value of indicators by average from 2010 until 2015 (recent overview)\n",
    "> - For the last question, we will calculate the value of indicators by average from 1995 until 2000 (past overview)\n",
    "> - We will then merge all the datasets based on the countries\n",
    "> - We need to check if all countries we want are there\n",
    "> - Filter out countries we do not analyse\n",
    "> - Sanity check for duplicates in the final dataset"
   ]
  },
  {
   "cell_type": "markdown",
   "metadata": {},
   "source": [
    "We will create a loop because each dataset needs to go through the same transformation as they have the same structure. Each dataframe at this step can be described as a matrix of the chosen indicators by country and by year. The final goal in this data wrangling step, as explained in the bullet points above, is to gather all the indicators in one dataset, keep the country dimension and calculate 2 averages over time for each indicators. Then bring all this into one last dataframe containing the 10 chosen countries for this analysis."
   ]
  },
  {
   "cell_type": "code",
   "execution_count": 2,
   "metadata": {},
   "outputs": [],
   "source": [
    "# Create a list of dataframes extracted from our csv files in order to wrangle these datasets in the next step\n",
    "list_dataframes = [df_female, df_male, df_income, df_school, df_hdi]\n",
    "\n",
    "\n",
    "# Create function to get the name of a dataframe\n",
    "def get_df_name(df):\n",
    "    name =[x for x in globals() if globals()[x] is df][0]\n",
    "    return name"
   ]
  },
  {
   "cell_type": "code",
   "execution_count": 3,
   "metadata": {},
   "outputs": [
    {
     "name": "stdout",
     "output_type": "stream",
     "text": [
      "df_female_ind\n",
      "df_male_ind\n",
      "df_income_ind\n",
      "df_school_ind\n",
      "df_hdi_ind\n"
     ]
    }
   ],
   "source": [
    "# create loop to get from new dataframes from each indicator\n",
    "\n",
    "for i in list_dataframes:\n",
    "\n",
    "    # Prepare naming   \n",
    "    x = get_df_name(i).split(\"_\",2)[1]\n",
    "    # new columns  \n",
    "    y = x + \"_10_15\"\n",
    "    z = x + \"_95_00\"\n",
    "    # new dataframe\n",
    "    df_name = \"df_\"+ x +\"_ind\"\n",
    "    print(df_name)\n",
    "   \n",
    "    # Calculate mean for i indicator from 2010 to 2015 period per country\n",
    "    k = i.loc[:,'2010':'2015'].mean(axis=1).round(2)\n",
    "    # Calculate mean for i indicator from 1995 to 2000 period per country \n",
    "    l = i.loc[:,'1995':'2000'].mean(axis=1).round(2)\n",
    "\n",
    "    # Add means to dataframe\n",
    "    i [y] = k\n",
    "    i [z] = l\n",
    "\n",
    "\n",
    "   # Build a dataframe with only necessary information for our analysis and this indicator \n",
    "    \n",
    "   # Get positions of last columns   \n",
    "    a = i.shape[1]-2\n",
    "    b = i.shape[1]\n",
    "    \n",
    "    # Build our dataframe   \n",
    "    df = i.iloc[:,np.r_[0:1,a:b]]\n",
    "    exec('{} = df'.format(df_name)) #It has been necessary to apply this exec statement in the end of the loop to give the 5 expected dataframes in our output "
   ]
  },
  {
   "cell_type": "code",
   "execution_count": 4,
   "metadata": {},
   "outputs": [],
   "source": [
    "# New dataframes to join in one dataframe for our analysis\n",
    "list_new_dfs = [df_female_ind, df_male_ind, df_income_ind, df_school_ind, df_hdi_ind]"
   ]
  },
  {
   "cell_type": "code",
   "execution_count": 5,
   "metadata": {},
   "outputs": [
    {
     "name": "stdout",
     "output_type": "stream",
     "text": [
      "<class 'pandas.core.frame.DataFrame'>\n",
      "Int64Index: 171 entries, 0 to 170\n",
      "Data columns (total 11 columns):\n",
      "country         171 non-null object\n",
      "female_10_15    137 non-null float64\n",
      "female_95_00    106 non-null float64\n",
      "male_10_15      138 non-null float64\n",
      "male_95_00      107 non-null float64\n",
      "income_10_15    171 non-null float64\n",
      "income_95_00    171 non-null float64\n",
      "school_10_15    167 non-null float64\n",
      "school_95_00    167 non-null float64\n",
      "hdi_10_15       168 non-null float64\n",
      "hdi_95_00       153 non-null float64\n",
      "dtypes: float64(10), object(1)\n",
      "memory usage: 16.0+ KB\n"
     ]
    }
   ],
   "source": [
    "# Merge all the dataframes using reduce() in order to pass the merge function to all elements in the list\n",
    "df_final = functools.reduce(lambda x, y: pd.merge(x, y, on = 'country', how = 'left'), list_new_dfs)\n",
    "df_final.info()"
   ]
  },
  {
   "cell_type": "code",
   "execution_count": 6,
   "metadata": {},
   "outputs": [
    {
     "data": {
      "text/plain": [
       "array(['Afghanistan', 'Albania', 'Algeria', 'Angola',\n",
       "       'Antigua and Barbuda', 'Argentina', 'Armenia', 'Australia',\n",
       "       'Austria', 'Azerbaijan', 'Bahamas', 'Bahrain', 'Bangladesh',\n",
       "       'Barbados', 'Belarus', 'Belgium', 'Belize', 'Benin', 'Bhutan',\n",
       "       'Bolivia', 'Bosnia and Herzegovina', 'Botswana', 'Brazil',\n",
       "       'Brunei', 'Bulgaria', 'Burkina Faso', 'Burundi', 'Cambodia',\n",
       "       'Cameroon', 'Canada', 'Cape Verde', 'Chad', 'Chile', 'Colombia',\n",
       "       'Comoros', 'Congo, Dem. Rep.', 'Congo, Rep.', 'Costa Rica',\n",
       "       \"Cote d'Ivoire\", 'Croatia', 'Cuba', 'Cyprus', 'Czech Republic',\n",
       "       'Denmark', 'Dominica', 'Dominican Republic', 'Ecuador', 'Egypt',\n",
       "       'El Salvador', 'Equatorial Guinea', 'Eritrea', 'Estonia',\n",
       "       'Ethiopia', 'Fiji', 'Finland', 'France', 'Gabon', 'Gambia',\n",
       "       'Georgia', 'Germany', 'Ghana', 'Greece', 'Grenada', 'Guatemala',\n",
       "       'Guinea', 'Haiti', 'Honduras', 'Hungary', 'Iceland', 'India',\n",
       "       'Indonesia', 'Iran', 'Ireland', 'Israel', 'Italy', 'Jamaica',\n",
       "       'Japan', 'Jordan', 'Kazakhstan', 'Kenya', 'Kiribati', 'Kuwait',\n",
       "       'Kyrgyz Republic', 'Lao', 'Latvia', 'Lebanon', 'Lesotho',\n",
       "       'Liberia', 'Lithuania', 'Luxembourg', 'Macedonia, FYR',\n",
       "       'Madagascar', 'Malawi', 'Malaysia', 'Maldives', 'Mali', 'Malta',\n",
       "       'Marshall Islands', 'Mauritania', 'Mauritius', 'Mexico', 'Moldova',\n",
       "       'Mongolia', 'Montenegro', 'Morocco', 'Mozambique', 'Myanmar',\n",
       "       'Namibia', 'Nepal', 'Netherlands', 'New Zealand', 'Nicaragua',\n",
       "       'Niger', 'Norway', 'Pakistan', 'Palau', 'Palestine', 'Panama',\n",
       "       'Paraguay', 'Peru', 'Philippines', 'Poland', 'Portugal', 'Qatar',\n",
       "       'Romania', 'Russia', 'Rwanda', 'Samoa', 'San Marino',\n",
       "       'Sao Tome and Principe', 'Saudi Arabia', 'Senegal', 'Serbia',\n",
       "       'Seychelles', 'Sierra Leone', 'Singapore', 'Slovak Republic',\n",
       "       'Slovenia', 'South Africa', 'South Korea', 'Spain', 'Sri Lanka',\n",
       "       'St. Kitts and Nevis', 'St. Lucia',\n",
       "       'St. Vincent and the Grenadines', 'Suriname', 'Swaziland',\n",
       "       'Sweden', 'Switzerland', 'Syria', 'Tajikistan', 'Tanzania',\n",
       "       'Thailand', 'Timor-Leste', 'Tonga', 'Trinidad and Tobago',\n",
       "       'Tunisia', 'Turkey', 'Tuvalu', 'Uganda', 'Ukraine',\n",
       "       'United Arab Emirates', 'United Kingdom', 'United States',\n",
       "       'Uruguay', 'Vanuatu', 'Venezuela', 'Vietnam', 'Yemen', 'Zambia',\n",
       "       'Zimbabwe'], dtype=object)"
      ]
     },
     "execution_count": 6,
     "metadata": {},
     "output_type": "execute_result"
    }
   ],
   "source": [
    "# Have the column names in order to identify the spelling of each country\n",
    "# If the datasets are neat, we expect it will be the same names in each dataset so that when we merge it on country,\n",
    "# it will not cause any issue\n",
    "df_female.country.unique()"
   ]
  },
  {
   "cell_type": "code",
   "execution_count": 7,
   "metadata": {},
   "outputs": [],
   "source": [
    "# List the countries to keep in analysis\n",
    "countries = ['Sweden', 'Belgium','Italy', 'Germany', 'Brazil', 'Senegal', 'India','United States', 'Australia', 'Syria'  ]"
   ]
  },
  {
   "cell_type": "code",
   "execution_count": 8,
   "metadata": {},
   "outputs": [
    {
     "data": {
      "text/html": [
       "<div>\n",
       "<style scoped>\n",
       "    .dataframe tbody tr th:only-of-type {\n",
       "        vertical-align: middle;\n",
       "    }\n",
       "\n",
       "    .dataframe tbody tr th {\n",
       "        vertical-align: top;\n",
       "    }\n",
       "\n",
       "    .dataframe thead th {\n",
       "        text-align: right;\n",
       "    }\n",
       "</style>\n",
       "<table border=\"1\" class=\"dataframe\">\n",
       "  <thead>\n",
       "    <tr style=\"text-align: right;\">\n",
       "      <th></th>\n",
       "      <th>country</th>\n",
       "      <th>female_10_15</th>\n",
       "      <th>female_95_00</th>\n",
       "      <th>male_10_15</th>\n",
       "      <th>male_95_00</th>\n",
       "      <th>income_10_15</th>\n",
       "      <th>income_95_00</th>\n",
       "      <th>school_10_15</th>\n",
       "      <th>school_95_00</th>\n",
       "      <th>hdi_10_15</th>\n",
       "      <th>hdi_95_00</th>\n",
       "    </tr>\n",
       "  </thead>\n",
       "  <tbody>\n",
       "    <tr>\n",
       "      <td>0</td>\n",
       "      <td>Australia</td>\n",
       "      <td>0.28</td>\n",
       "      <td>1.24</td>\n",
       "      <td>0.20</td>\n",
       "      <td>0.63</td>\n",
       "      <td>42650.00</td>\n",
       "      <td>32733.33</td>\n",
       "      <td>102.50</td>\n",
       "      <td>100.33</td>\n",
       "      <td>0.93</td>\n",
       "      <td>0.89</td>\n",
       "    </tr>\n",
       "    <tr>\n",
       "      <td>1</td>\n",
       "      <td>Belgium</td>\n",
       "      <td>1.56</td>\n",
       "      <td>4.90</td>\n",
       "      <td>0.42</td>\n",
       "      <td>0.54</td>\n",
       "      <td>41200.00</td>\n",
       "      <td>34716.67</td>\n",
       "      <td>104.00</td>\n",
       "      <td>102.50</td>\n",
       "      <td>0.89</td>\n",
       "      <td>0.86</td>\n",
       "    </tr>\n",
       "    <tr>\n",
       "      <td>2</td>\n",
       "      <td>Brazil</td>\n",
       "      <td>4.35</td>\n",
       "      <td>9.90</td>\n",
       "      <td>1.71</td>\n",
       "      <td>4.50</td>\n",
       "      <td>15016.67</td>\n",
       "      <td>11200.00</td>\n",
       "      <td>112.67</td>\n",
       "      <td>108.50</td>\n",
       "      <td>0.74</td>\n",
       "      <td>0.67</td>\n",
       "    </tr>\n",
       "    <tr>\n",
       "      <td>3</td>\n",
       "      <td>Germany</td>\n",
       "      <td>0.75</td>\n",
       "      <td>1.85</td>\n",
       "      <td>0.29</td>\n",
       "      <td>0.36</td>\n",
       "      <td>42666.67</td>\n",
       "      <td>34933.33</td>\n",
       "      <td>101.50</td>\n",
       "      <td>98.42</td>\n",
       "      <td>0.92</td>\n",
       "      <td>0.85</td>\n",
       "    </tr>\n",
       "    <tr>\n",
       "      <td>4</td>\n",
       "      <td>India</td>\n",
       "      <td>31.65</td>\n",
       "      <td>33.60</td>\n",
       "      <td>10.60</td>\n",
       "      <td>12.40</td>\n",
       "      <td>5015.00</td>\n",
       "      <td>2271.67</td>\n",
       "      <td>66.57</td>\n",
       "      <td>57.53</td>\n",
       "      <td>0.60</td>\n",
       "      <td>0.48</td>\n",
       "    </tr>\n",
       "    <tr>\n",
       "      <td>5</td>\n",
       "      <td>Italy</td>\n",
       "      <td>2.05</td>\n",
       "      <td>6.66</td>\n",
       "      <td>1.06</td>\n",
       "      <td>2.83</td>\n",
       "      <td>35000.00</td>\n",
       "      <td>34566.67</td>\n",
       "      <td>103.67</td>\n",
       "      <td>101.00</td>\n",
       "      <td>0.88</td>\n",
       "      <td>0.81</td>\n",
       "    </tr>\n",
       "    <tr>\n",
       "      <td>6</td>\n",
       "      <td>Senegal</td>\n",
       "      <td>29.35</td>\n",
       "      <td>NaN</td>\n",
       "      <td>19.50</td>\n",
       "      <td>NaN</td>\n",
       "      <td>2205.00</td>\n",
       "      <td>1815.00</td>\n",
       "      <td>62.22</td>\n",
       "      <td>54.67</td>\n",
       "      <td>0.48</td>\n",
       "      <td>0.38</td>\n",
       "    </tr>\n",
       "    <tr>\n",
       "      <td>7</td>\n",
       "      <td>Sweden</td>\n",
       "      <td>0.23</td>\n",
       "      <td>0.55</td>\n",
       "      <td>0.23</td>\n",
       "      <td>0.48</td>\n",
       "      <td>43866.67</td>\n",
       "      <td>33466.67</td>\n",
       "      <td>104.00</td>\n",
       "      <td>102.33</td>\n",
       "      <td>0.91</td>\n",
       "      <td>0.87</td>\n",
       "    </tr>\n",
       "    <tr>\n",
       "      <td>8</td>\n",
       "      <td>Syria</td>\n",
       "      <td>9.68</td>\n",
       "      <td>NaN</td>\n",
       "      <td>2.58</td>\n",
       "      <td>NaN</td>\n",
       "      <td>5343.33</td>\n",
       "      <td>5271.67</td>\n",
       "      <td>83.32</td>\n",
       "      <td>72.67</td>\n",
       "      <td>0.60</td>\n",
       "      <td>0.58</td>\n",
       "    </tr>\n",
       "    <tr>\n",
       "      <td>9</td>\n",
       "      <td>United States</td>\n",
       "      <td>0.09</td>\n",
       "      <td>0.17</td>\n",
       "      <td>0.06</td>\n",
       "      <td>0.08</td>\n",
       "      <td>50883.33</td>\n",
       "      <td>42616.67</td>\n",
       "      <td>103.00</td>\n",
       "      <td>100.67</td>\n",
       "      <td>0.92</td>\n",
       "      <td>0.88</td>\n",
       "    </tr>\n",
       "  </tbody>\n",
       "</table>\n",
       "</div>"
      ],
      "text/plain": [
       "         country  female_10_15  female_95_00  male_10_15  male_95_00  \\\n",
       "0      Australia          0.28          1.24        0.20        0.63   \n",
       "1        Belgium          1.56          4.90        0.42        0.54   \n",
       "2         Brazil          4.35          9.90        1.71        4.50   \n",
       "3        Germany          0.75          1.85        0.29        0.36   \n",
       "4          India         31.65         33.60       10.60       12.40   \n",
       "5          Italy          2.05          6.66        1.06        2.83   \n",
       "6        Senegal         29.35           NaN       19.50         NaN   \n",
       "7         Sweden          0.23          0.55        0.23        0.48   \n",
       "8          Syria          9.68           NaN        2.58         NaN   \n",
       "9  United States          0.09          0.17        0.06        0.08   \n",
       "\n",
       "   income_10_15  income_95_00  school_10_15  school_95_00  hdi_10_15  \\\n",
       "0      42650.00      32733.33        102.50        100.33       0.93   \n",
       "1      41200.00      34716.67        104.00        102.50       0.89   \n",
       "2      15016.67      11200.00        112.67        108.50       0.74   \n",
       "3      42666.67      34933.33        101.50         98.42       0.92   \n",
       "4       5015.00       2271.67         66.57         57.53       0.60   \n",
       "5      35000.00      34566.67        103.67        101.00       0.88   \n",
       "6       2205.00       1815.00         62.22         54.67       0.48   \n",
       "7      43866.67      33466.67        104.00        102.33       0.91   \n",
       "8       5343.33       5271.67         83.32         72.67       0.60   \n",
       "9      50883.33      42616.67        103.00        100.67       0.92   \n",
       "\n",
       "   hdi_95_00  \n",
       "0       0.89  \n",
       "1       0.86  \n",
       "2       0.67  \n",
       "3       0.85  \n",
       "4       0.48  \n",
       "5       0.81  \n",
       "6       0.38  \n",
       "7       0.87  \n",
       "8       0.58  \n",
       "9       0.88  "
      ]
     },
     "execution_count": 8,
     "metadata": {},
     "output_type": "execute_result"
    }
   ],
   "source": [
    "# Clean the final dataframe in order to only keep the countries we selected for the analysis\n",
    "df_countries = df_final[df_final['country'].isin(countries)].reset_index(drop = True)\n",
    "df_countries"
   ]
  },
  {
   "cell_type": "code",
   "execution_count": 9,
   "metadata": {},
   "outputs": [],
   "source": [
    "df_final = df_female_ind.merge(df_male_ind, how = 'left', on='country').merge(df_income_ind, how = 'left', on='country').merge(df_school_ind, how = 'left', on='country').merge(df_hdi_ind, how = 'left', on='country')"
   ]
  },
  {
   "cell_type": "code",
   "execution_count": 10,
   "metadata": {},
   "outputs": [
    {
     "data": {
      "text/plain": [
       "country         0\n",
       "female_10_15    0\n",
       "female_95_00    0\n",
       "male_10_15      0\n",
       "male_95_00      0\n",
       "income_10_15    0\n",
       "income_95_00    0\n",
       "school_10_15    0\n",
       "school_95_00    0\n",
       "hdi_10_15       0\n",
       "hdi_95_00       0\n",
       "dtype: int64"
      ]
     },
     "execution_count": 10,
     "metadata": {},
     "output_type": "execute_result"
    }
   ],
   "source": [
    "# Check for duplicates\n",
    "df_countries[df_countries.duplicated()].count()"
   ]
  },
  {
   "cell_type": "code",
   "execution_count": 11,
   "metadata": {},
   "outputs": [
    {
     "data": {
      "text/html": [
       "<div>\n",
       "<style scoped>\n",
       "    .dataframe tbody tr th:only-of-type {\n",
       "        vertical-align: middle;\n",
       "    }\n",
       "\n",
       "    .dataframe tbody tr th {\n",
       "        vertical-align: top;\n",
       "    }\n",
       "\n",
       "    .dataframe thead th {\n",
       "        text-align: right;\n",
       "    }\n",
       "</style>\n",
       "<table border=\"1\" class=\"dataframe\">\n",
       "  <thead>\n",
       "    <tr style=\"text-align: right;\">\n",
       "      <th></th>\n",
       "      <th>country</th>\n",
       "      <th>female_10_15</th>\n",
       "      <th>female_95_00</th>\n",
       "      <th>male_10_15</th>\n",
       "      <th>male_95_00</th>\n",
       "      <th>income_10_15</th>\n",
       "      <th>income_95_00</th>\n",
       "      <th>school_10_15</th>\n",
       "      <th>school_95_00</th>\n",
       "      <th>hdi_10_15</th>\n",
       "      <th>hdi_95_00</th>\n",
       "    </tr>\n",
       "  </thead>\n",
       "  <tbody>\n",
       "    <tr>\n",
       "      <td>0</td>\n",
       "      <td>Afghanistan</td>\n",
       "      <td>38.60</td>\n",
       "      <td>NaN</td>\n",
       "      <td>7.90</td>\n",
       "      <td>NaN</td>\n",
       "      <td>1741.67</td>\n",
       "      <td>937.50</td>\n",
       "      <td>23.20</td>\n",
       "      <td>19.75</td>\n",
       "      <td>0.47</td>\n",
       "      <td>0.33</td>\n",
       "    </tr>\n",
       "    <tr>\n",
       "      <td>1</td>\n",
       "      <td>Albania</td>\n",
       "      <td>43.98</td>\n",
       "      <td>NaN</td>\n",
       "      <td>22.15</td>\n",
       "      <td>NaN</td>\n",
       "      <td>10455.00</td>\n",
       "      <td>4626.67</td>\n",
       "      <td>102.00</td>\n",
       "      <td>98.25</td>\n",
       "      <td>0.76</td>\n",
       "      <td>0.64</td>\n",
       "    </tr>\n",
       "    <tr>\n",
       "      <td>2</td>\n",
       "      <td>Algeria</td>\n",
       "      <td>3.81</td>\n",
       "      <td>NaN</td>\n",
       "      <td>2.26</td>\n",
       "      <td>NaN</td>\n",
       "      <td>13266.67</td>\n",
       "      <td>9706.67</td>\n",
       "      <td>89.90</td>\n",
       "      <td>85.62</td>\n",
       "      <td>0.74</td>\n",
       "      <td>0.62</td>\n",
       "    </tr>\n",
       "    <tr>\n",
       "      <td>3</td>\n",
       "      <td>Angola</td>\n",
       "      <td>24.54</td>\n",
       "      <td>NaN</td>\n",
       "      <td>16.66</td>\n",
       "      <td>NaN</td>\n",
       "      <td>6081.67</td>\n",
       "      <td>3345.00</td>\n",
       "      <td>71.97</td>\n",
       "      <td>63.68</td>\n",
       "      <td>0.52</td>\n",
       "      <td>0.39</td>\n",
       "    </tr>\n",
       "    <tr>\n",
       "      <td>4</td>\n",
       "      <td>Antigua and Barbuda</td>\n",
       "      <td>NaN</td>\n",
       "      <td>NaN</td>\n",
       "      <td>NaN</td>\n",
       "      <td>NaN</td>\n",
       "      <td>19216.67</td>\n",
       "      <td>17650.00</td>\n",
       "      <td>110.00</td>\n",
       "      <td>109.00</td>\n",
       "      <td>0.78</td>\n",
       "      <td>NaN</td>\n",
       "    </tr>\n",
       "    <tr>\n",
       "      <td>...</td>\n",
       "      <td>...</td>\n",
       "      <td>...</td>\n",
       "      <td>...</td>\n",
       "      <td>...</td>\n",
       "      <td>...</td>\n",
       "      <td>...</td>\n",
       "      <td>...</td>\n",
       "      <td>...</td>\n",
       "      <td>...</td>\n",
       "      <td>...</td>\n",
       "      <td>...</td>\n",
       "    </tr>\n",
       "    <tr>\n",
       "      <td>166</td>\n",
       "      <td>Venezuela</td>\n",
       "      <td>1.44</td>\n",
       "      <td>1.64</td>\n",
       "      <td>0.63</td>\n",
       "      <td>1.32</td>\n",
       "      <td>16866.67</td>\n",
       "      <td>14983.33</td>\n",
       "      <td>109.00</td>\n",
       "      <td>105.33</td>\n",
       "      <td>0.77</td>\n",
       "      <td>0.67</td>\n",
       "    </tr>\n",
       "    <tr>\n",
       "      <td>167</td>\n",
       "      <td>Vietnam</td>\n",
       "      <td>24.42</td>\n",
       "      <td>55.56</td>\n",
       "      <td>12.92</td>\n",
       "      <td>23.66</td>\n",
       "      <td>5046.67</td>\n",
       "      <td>2365.00</td>\n",
       "      <td>98.78</td>\n",
       "      <td>92.85</td>\n",
       "      <td>0.67</td>\n",
       "      <td>0.55</td>\n",
       "    </tr>\n",
       "    <tr>\n",
       "      <td>168</td>\n",
       "      <td>Yemen</td>\n",
       "      <td>38.50</td>\n",
       "      <td>0.35</td>\n",
       "      <td>9.35</td>\n",
       "      <td>0.33</td>\n",
       "      <td>3726.67</td>\n",
       "      <td>3686.67</td>\n",
       "      <td>28.85</td>\n",
       "      <td>21.55</td>\n",
       "      <td>0.49</td>\n",
       "      <td>0.43</td>\n",
       "    </tr>\n",
       "    <tr>\n",
       "      <td>169</td>\n",
       "      <td>Zambia</td>\n",
       "      <td>52.00</td>\n",
       "      <td>48.13</td>\n",
       "      <td>17.10</td>\n",
       "      <td>18.00</td>\n",
       "      <td>3498.33</td>\n",
       "      <td>2080.00</td>\n",
       "      <td>84.07</td>\n",
       "      <td>77.53</td>\n",
       "      <td>0.56</td>\n",
       "      <td>0.41</td>\n",
       "    </tr>\n",
       "    <tr>\n",
       "      <td>170</td>\n",
       "      <td>Zimbabwe</td>\n",
       "      <td>4.72</td>\n",
       "      <td>16.00</td>\n",
       "      <td>3.12</td>\n",
       "      <td>13.50</td>\n",
       "      <td>1778.33</td>\n",
       "      <td>2648.33</td>\n",
       "      <td>91.02</td>\n",
       "      <td>83.67</td>\n",
       "      <td>0.49</td>\n",
       "      <td>0.45</td>\n",
       "    </tr>\n",
       "  </tbody>\n",
       "</table>\n",
       "<p>171 rows × 11 columns</p>\n",
       "</div>"
      ],
      "text/plain": [
       "                 country  female_10_15  female_95_00  male_10_15  male_95_00  \\\n",
       "0            Afghanistan         38.60           NaN        7.90         NaN   \n",
       "1                Albania         43.98           NaN       22.15         NaN   \n",
       "2                Algeria          3.81           NaN        2.26         NaN   \n",
       "3                 Angola         24.54           NaN       16.66         NaN   \n",
       "4    Antigua and Barbuda           NaN           NaN         NaN         NaN   \n",
       "..                   ...           ...           ...         ...         ...   \n",
       "166            Venezuela          1.44          1.64        0.63        1.32   \n",
       "167              Vietnam         24.42         55.56       12.92       23.66   \n",
       "168                Yemen         38.50          0.35        9.35        0.33   \n",
       "169               Zambia         52.00         48.13       17.10       18.00   \n",
       "170             Zimbabwe          4.72         16.00        3.12       13.50   \n",
       "\n",
       "     income_10_15  income_95_00  school_10_15  school_95_00  hdi_10_15  \\\n",
       "0         1741.67        937.50         23.20         19.75       0.47   \n",
       "1        10455.00       4626.67        102.00         98.25       0.76   \n",
       "2        13266.67       9706.67         89.90         85.62       0.74   \n",
       "3         6081.67       3345.00         71.97         63.68       0.52   \n",
       "4        19216.67      17650.00        110.00        109.00       0.78   \n",
       "..            ...           ...           ...           ...        ...   \n",
       "166      16866.67      14983.33        109.00        105.33       0.77   \n",
       "167       5046.67       2365.00         98.78         92.85       0.67   \n",
       "168       3726.67       3686.67         28.85         21.55       0.49   \n",
       "169       3498.33       2080.00         84.07         77.53       0.56   \n",
       "170       1778.33       2648.33         91.02         83.67       0.49   \n",
       "\n",
       "     hdi_95_00  \n",
       "0         0.33  \n",
       "1         0.64  \n",
       "2         0.62  \n",
       "3         0.39  \n",
       "4          NaN  \n",
       "..         ...  \n",
       "166       0.67  \n",
       "167       0.55  \n",
       "168       0.43  \n",
       "169       0.41  \n",
       "170       0.45  \n",
       "\n",
       "[171 rows x 11 columns]"
      ]
     },
     "execution_count": 11,
     "metadata": {},
     "output_type": "execute_result"
    }
   ],
   "source": [
    "df_final"
   ]
  },
  {
   "cell_type": "markdown",
   "metadata": {},
   "source": [
    ">All is ready to go on to the exploration step in the project with the newly formed dataset **df_countries**"
   ]
  },
  {
   "cell_type": "code",
   "execution_count": 12,
   "metadata": {},
   "outputs": [
    {
     "data": {
      "text/html": [
       "<div>\n",
       "<style scoped>\n",
       "    .dataframe tbody tr th:only-of-type {\n",
       "        vertical-align: middle;\n",
       "    }\n",
       "\n",
       "    .dataframe tbody tr th {\n",
       "        vertical-align: top;\n",
       "    }\n",
       "\n",
       "    .dataframe thead th {\n",
       "        text-align: right;\n",
       "    }\n",
       "</style>\n",
       "<table border=\"1\" class=\"dataframe\">\n",
       "  <thead>\n",
       "    <tr style=\"text-align: right;\">\n",
       "      <th></th>\n",
       "      <th>female_10_15</th>\n",
       "      <th>female_95_00</th>\n",
       "      <th>male_10_15</th>\n",
       "      <th>male_95_00</th>\n",
       "      <th>income_10_15</th>\n",
       "      <th>income_95_00</th>\n",
       "      <th>school_10_15</th>\n",
       "      <th>school_95_00</th>\n",
       "      <th>hdi_10_15</th>\n",
       "      <th>hdi_95_00</th>\n",
       "    </tr>\n",
       "  </thead>\n",
       "  <tbody>\n",
       "    <tr>\n",
       "      <td>count</td>\n",
       "      <td>137.000000</td>\n",
       "      <td>106.000000</td>\n",
       "      <td>138.000000</td>\n",
       "      <td>107.000000</td>\n",
       "      <td>171.000000</td>\n",
       "      <td>171.000000</td>\n",
       "      <td>167.000000</td>\n",
       "      <td>167.000000</td>\n",
       "      <td>168.000000</td>\n",
       "      <td>153.000000</td>\n",
       "    </tr>\n",
       "    <tr>\n",
       "      <td>mean</td>\n",
       "      <td>13.832920</td>\n",
       "      <td>12.801981</td>\n",
       "      <td>6.192754</td>\n",
       "      <td>5.488598</td>\n",
       "      <td>17670.782807</td>\n",
       "      <td>13701.443450</td>\n",
       "      <td>93.083713</td>\n",
       "      <td>88.331916</td>\n",
       "      <td>0.699345</td>\n",
       "      <td>0.623203</td>\n",
       "    </tr>\n",
       "    <tr>\n",
       "      <td>std</td>\n",
       "      <td>16.005366</td>\n",
       "      <td>16.818073</td>\n",
       "      <td>7.718418</td>\n",
       "      <td>7.290457</td>\n",
       "      <td>19211.528997</td>\n",
       "      <td>17502.023957</td>\n",
       "      <td>19.341991</td>\n",
       "      <td>21.063724</td>\n",
       "      <td>0.152979</td>\n",
       "      <td>0.168806</td>\n",
       "    </tr>\n",
       "    <tr>\n",
       "      <td>min</td>\n",
       "      <td>0.020000</td>\n",
       "      <td>0.110000</td>\n",
       "      <td>0.030000</td>\n",
       "      <td>0.020000</td>\n",
       "      <td>675.500000</td>\n",
       "      <td>499.500000</td>\n",
       "      <td>23.200000</td>\n",
       "      <td>19.750000</td>\n",
       "      <td>0.340000</td>\n",
       "      <td>0.240000</td>\n",
       "    </tr>\n",
       "    <tr>\n",
       "      <td>25%</td>\n",
       "      <td>1.120000</td>\n",
       "      <td>1.810000</td>\n",
       "      <td>0.550000</td>\n",
       "      <td>0.615000</td>\n",
       "      <td>3671.670000</td>\n",
       "      <td>2595.830000</td>\n",
       "      <td>83.945000</td>\n",
       "      <td>75.655000</td>\n",
       "      <td>0.580000</td>\n",
       "      <td>0.480000</td>\n",
       "    </tr>\n",
       "    <tr>\n",
       "      <td>50%</td>\n",
       "      <td>7.030000</td>\n",
       "      <td>4.820000</td>\n",
       "      <td>2.945000</td>\n",
       "      <td>2.060000</td>\n",
       "      <td>10993.330000</td>\n",
       "      <td>7085.000000</td>\n",
       "      <td>102.000000</td>\n",
       "      <td>97.980000</td>\n",
       "      <td>0.730000</td>\n",
       "      <td>0.660000</td>\n",
       "    </tr>\n",
       "    <tr>\n",
       "      <td>75%</td>\n",
       "      <td>23.880000</td>\n",
       "      <td>15.880000</td>\n",
       "      <td>9.347500</td>\n",
       "      <td>8.280000</td>\n",
       "      <td>24041.670000</td>\n",
       "      <td>15908.335000</td>\n",
       "      <td>105.000000</td>\n",
       "      <td>102.585000</td>\n",
       "      <td>0.820000</td>\n",
       "      <td>0.750000</td>\n",
       "    </tr>\n",
       "    <tr>\n",
       "      <td>max</td>\n",
       "      <td>65.900000</td>\n",
       "      <td>75.300000</td>\n",
       "      <td>33.950000</td>\n",
       "      <td>32.700000</td>\n",
       "      <td>123833.330000</td>\n",
       "      <td>101883.330000</td>\n",
       "      <td>126.000000</td>\n",
       "      <td>127.000000</td>\n",
       "      <td>0.940000</td>\n",
       "      <td>0.900000</td>\n",
       "    </tr>\n",
       "  </tbody>\n",
       "</table>\n",
       "</div>"
      ],
      "text/plain": [
       "       female_10_15  female_95_00  male_10_15  male_95_00   income_10_15  \\\n",
       "count    137.000000    106.000000  138.000000  107.000000     171.000000   \n",
       "mean      13.832920     12.801981    6.192754    5.488598   17670.782807   \n",
       "std       16.005366     16.818073    7.718418    7.290457   19211.528997   \n",
       "min        0.020000      0.110000    0.030000    0.020000     675.500000   \n",
       "25%        1.120000      1.810000    0.550000    0.615000    3671.670000   \n",
       "50%        7.030000      4.820000    2.945000    2.060000   10993.330000   \n",
       "75%       23.880000     15.880000    9.347500    8.280000   24041.670000   \n",
       "max       65.900000     75.300000   33.950000   32.700000  123833.330000   \n",
       "\n",
       "        income_95_00  school_10_15  school_95_00   hdi_10_15   hdi_95_00  \n",
       "count     171.000000    167.000000    167.000000  168.000000  153.000000  \n",
       "mean    13701.443450     93.083713     88.331916    0.699345    0.623203  \n",
       "std     17502.023957     19.341991     21.063724    0.152979    0.168806  \n",
       "min       499.500000     23.200000     19.750000    0.340000    0.240000  \n",
       "25%      2595.830000     83.945000     75.655000    0.580000    0.480000  \n",
       "50%      7085.000000    102.000000     97.980000    0.730000    0.660000  \n",
       "75%     15908.335000    105.000000    102.585000    0.820000    0.750000  \n",
       "max    101883.330000    126.000000    127.000000    0.940000    0.900000  "
      ]
     },
     "execution_count": 12,
     "metadata": {},
     "output_type": "execute_result"
    }
   ],
   "source": [
    "df_final.describe()"
   ]
  },
  {
   "cell_type": "code",
   "execution_count": null,
   "metadata": {},
   "outputs": [],
   "source": []
  },
  {
   "cell_type": "markdown",
   "metadata": {},
   "source": [
    "<a id='eda'></a>\n",
    "## Exploratory Data Analysis"
   ]
  },
  {
   "cell_type": "markdown",
   "metadata": {},
   "source": [
    "### Preliminary observations"
   ]
  },
  {
   "cell_type": "code",
   "execution_count": 14,
   "metadata": {},
   "outputs": [
    {
     "name": "stdout",
     "output_type": "stream",
     "text": [
      "<class 'pandas.core.frame.DataFrame'>\n",
      "RangeIndex: 10 entries, 0 to 9\n",
      "Data columns (total 11 columns):\n",
      "country         10 non-null object\n",
      "female_10_15    10 non-null float64\n",
      "female_95_00    8 non-null float64\n",
      "male_10_15      10 non-null float64\n",
      "male_95_00      8 non-null float64\n",
      "income_10_15    10 non-null float64\n",
      "income_95_00    10 non-null float64\n",
      "school_10_15    10 non-null float64\n",
      "school_95_00    10 non-null float64\n",
      "hdi_10_15       10 non-null float64\n",
      "hdi_95_00       10 non-null float64\n",
      "dtypes: float64(10), object(1)\n",
      "memory usage: 1008.0+ bytes\n"
     ]
    }
   ],
   "source": [
    "# Info about dataframe\n",
    "df_countries.info()"
   ]
  },
  {
   "cell_type": "code",
   "execution_count": 15,
   "metadata": {},
   "outputs": [
    {
     "data": {
      "text/html": [
       "<div>\n",
       "<style scoped>\n",
       "    .dataframe tbody tr th:only-of-type {\n",
       "        vertical-align: middle;\n",
       "    }\n",
       "\n",
       "    .dataframe tbody tr th {\n",
       "        vertical-align: top;\n",
       "    }\n",
       "\n",
       "    .dataframe thead th {\n",
       "        text-align: right;\n",
       "    }\n",
       "</style>\n",
       "<table border=\"1\" class=\"dataframe\">\n",
       "  <thead>\n",
       "    <tr style=\"text-align: right;\">\n",
       "      <th></th>\n",
       "      <th>female_10_15</th>\n",
       "      <th>female_95_00</th>\n",
       "      <th>male_10_15</th>\n",
       "      <th>male_95_00</th>\n",
       "      <th>income_10_15</th>\n",
       "      <th>income_95_00</th>\n",
       "      <th>school_10_15</th>\n",
       "      <th>school_95_00</th>\n",
       "      <th>hdi_10_15</th>\n",
       "      <th>hdi_95_00</th>\n",
       "    </tr>\n",
       "  </thead>\n",
       "  <tbody>\n",
       "    <tr>\n",
       "      <td>count</td>\n",
       "      <td>10.000000</td>\n",
       "      <td>8.000000</td>\n",
       "      <td>10.00000</td>\n",
       "      <td>8.000000</td>\n",
       "      <td>10.000000</td>\n",
       "      <td>10.000000</td>\n",
       "      <td>10.000000</td>\n",
       "      <td>10.000000</td>\n",
       "      <td>10.000000</td>\n",
       "      <td>10.000000</td>\n",
       "    </tr>\n",
       "    <tr>\n",
       "      <td>mean</td>\n",
       "      <td>7.999000</td>\n",
       "      <td>7.358750</td>\n",
       "      <td>3.66500</td>\n",
       "      <td>2.727500</td>\n",
       "      <td>28384.667000</td>\n",
       "      <td>23359.168000</td>\n",
       "      <td>94.345000</td>\n",
       "      <td>89.862000</td>\n",
       "      <td>0.787000</td>\n",
       "      <td>0.727000</td>\n",
       "    </tr>\n",
       "    <tr>\n",
       "      <td>std</td>\n",
       "      <td>12.216873</td>\n",
       "      <td>11.131792</td>\n",
       "      <td>6.40615</td>\n",
       "      <td>4.201356</td>\n",
       "      <td>19155.723931</td>\n",
       "      <td>16101.369055</td>\n",
       "      <td>17.406331</td>\n",
       "      <td>20.181486</td>\n",
       "      <td>0.168856</td>\n",
       "      <td>0.187501</td>\n",
       "    </tr>\n",
       "    <tr>\n",
       "      <td>min</td>\n",
       "      <td>0.090000</td>\n",
       "      <td>0.170000</td>\n",
       "      <td>0.06000</td>\n",
       "      <td>0.080000</td>\n",
       "      <td>2205.000000</td>\n",
       "      <td>1815.000000</td>\n",
       "      <td>62.220000</td>\n",
       "      <td>54.670000</td>\n",
       "      <td>0.480000</td>\n",
       "      <td>0.380000</td>\n",
       "    </tr>\n",
       "    <tr>\n",
       "      <td>25%</td>\n",
       "      <td>0.397500</td>\n",
       "      <td>1.067500</td>\n",
       "      <td>0.24500</td>\n",
       "      <td>0.450000</td>\n",
       "      <td>7761.665000</td>\n",
       "      <td>6753.752500</td>\n",
       "      <td>87.865000</td>\n",
       "      <td>79.107500</td>\n",
       "      <td>0.635000</td>\n",
       "      <td>0.602500</td>\n",
       "    </tr>\n",
       "    <tr>\n",
       "      <td>50%</td>\n",
       "      <td>1.805000</td>\n",
       "      <td>3.375000</td>\n",
       "      <td>0.74000</td>\n",
       "      <td>0.585000</td>\n",
       "      <td>38100.000000</td>\n",
       "      <td>33100.000000</td>\n",
       "      <td>102.750000</td>\n",
       "      <td>100.500000</td>\n",
       "      <td>0.885000</td>\n",
       "      <td>0.830000</td>\n",
       "    </tr>\n",
       "    <tr>\n",
       "      <td>75%</td>\n",
       "      <td>8.347500</td>\n",
       "      <td>7.470000</td>\n",
       "      <td>2.36250</td>\n",
       "      <td>3.247500</td>\n",
       "      <td>42662.502500</td>\n",
       "      <td>34679.170000</td>\n",
       "      <td>103.917500</td>\n",
       "      <td>101.997500</td>\n",
       "      <td>0.917500</td>\n",
       "      <td>0.867500</td>\n",
       "    </tr>\n",
       "    <tr>\n",
       "      <td>max</td>\n",
       "      <td>31.650000</td>\n",
       "      <td>33.600000</td>\n",
       "      <td>19.50000</td>\n",
       "      <td>12.400000</td>\n",
       "      <td>50883.330000</td>\n",
       "      <td>42616.670000</td>\n",
       "      <td>112.670000</td>\n",
       "      <td>108.500000</td>\n",
       "      <td>0.930000</td>\n",
       "      <td>0.890000</td>\n",
       "    </tr>\n",
       "  </tbody>\n",
       "</table>\n",
       "</div>"
      ],
      "text/plain": [
       "       female_10_15  female_95_00  male_10_15  male_95_00  income_10_15  \\\n",
       "count     10.000000      8.000000    10.00000    8.000000     10.000000   \n",
       "mean       7.999000      7.358750     3.66500    2.727500  28384.667000   \n",
       "std       12.216873     11.131792     6.40615    4.201356  19155.723931   \n",
       "min        0.090000      0.170000     0.06000    0.080000   2205.000000   \n",
       "25%        0.397500      1.067500     0.24500    0.450000   7761.665000   \n",
       "50%        1.805000      3.375000     0.74000    0.585000  38100.000000   \n",
       "75%        8.347500      7.470000     2.36250    3.247500  42662.502500   \n",
       "max       31.650000     33.600000    19.50000   12.400000  50883.330000   \n",
       "\n",
       "       income_95_00  school_10_15  school_95_00  hdi_10_15  hdi_95_00  \n",
       "count     10.000000     10.000000     10.000000  10.000000  10.000000  \n",
       "mean   23359.168000     94.345000     89.862000   0.787000   0.727000  \n",
       "std    16101.369055     17.406331     20.181486   0.168856   0.187501  \n",
       "min     1815.000000     62.220000     54.670000   0.480000   0.380000  \n",
       "25%     6753.752500     87.865000     79.107500   0.635000   0.602500  \n",
       "50%    33100.000000    102.750000    100.500000   0.885000   0.830000  \n",
       "75%    34679.170000    103.917500    101.997500   0.917500   0.867500  \n",
       "max    42616.670000    112.670000    108.500000   0.930000   0.890000  "
      ]
     },
     "execution_count": 15,
     "metadata": {},
     "output_type": "execute_result"
    }
   ],
   "source": [
    "# Get insights about the dataframe we will for our analysis\n",
    "df_countries.describe()"
   ]
  },
  {
   "cell_type": "code",
   "execution_count": 16,
   "metadata": {},
   "outputs": [],
   "source": [
    "# Split the dataframe into recent and past indicators\n",
    "\n",
    "# Dataframe with recent indicators\n",
    "df_countries_recent = df_countries.iloc[:,np.r_[0,np.arange(1,11,2)]] \n",
    "# Dataframe with past indicators\n",
    "df_countries_past = df_countries.iloc[:,np.r_[np.arange(0,12,2)]]"
   ]
  },
  {
   "cell_type": "code",
   "execution_count": 17,
   "metadata": {},
   "outputs": [
    {
     "name": "stdout",
     "output_type": "stream",
     "text": [
      "Index(['country', 'female_10_15', 'male_10_15', 'income_10_15', 'school_10_15',\n",
      "       'hdi_10_15'],\n",
      "      dtype='object')\n",
      "Index(['country', 'female_95_00', 'male_95_00', 'income_95_00', 'school_95_00',\n",
      "       'hdi_95_00'],\n",
      "      dtype='object')\n"
     ]
    }
   ],
   "source": [
    "# quick check to see if these are the columns we expect for each time period\n",
    "print(df_countries_recent.columns)\n",
    "print(df_countries_past.columns)"
   ]
  },
  {
   "cell_type": "code",
   "execution_count": null,
   "metadata": {},
   "outputs": [],
   "source": [
    "cols = [col for col in df_countries.columns if '_10_15' in col]\n",
    "print(list(df_countries.columns))\n",
    "print (cols)"
   ]
  },
  {
   "cell_type": "code",
   "execution_count": 18,
   "metadata": {},
   "outputs": [
    {
     "name": "stdout",
     "output_type": "stream",
     "text": [
      "['country', 'female_10_15', 'male_10_15', 'income_10_15', 'school_10_15', 'hdi_10_15']\n",
      "['country', 'female_95_00', 'male_95_00', 'income_95_00', 'school_95_00', 'hdi_95_00']\n"
     ]
    }
   ],
   "source": [
    "# Split the dataframe into recent and past indicators\n",
    "\n",
    "# Indicators recent time period\n",
    "recent_ind = [col for col in df_countries.columns if '_10_15' in col]\n",
    "recent_ind.insert(0,'country')\n",
    "print(recent_ind)\n",
    "\n",
    "# Indicators past time period\n",
    "past_ind = [col for col in df_countries.columns if '_95_00' in col]\n",
    "past_ind.insert(0,'country')\n",
    "print(past_ind)"
   ]
  },
  {
   "cell_type": "code",
   "execution_count": null,
   "metadata": {},
   "outputs": [],
   "source": [
    "np.arange(1,11,2)"
   ]
  },
  {
   "cell_type": "code",
   "execution_count": null,
   "metadata": {
    "scrolled": true
   },
   "outputs": [],
   "source": [
    "df_countries.iloc[:,np.r_[0,np.arange(1,11,2)]]"
   ]
  },
  {
   "cell_type": "markdown",
   "metadata": {},
   "source": [
    "\n",
    "### Research question 1: \n",
    "#### What are the factors that give a stronger chance to a country to count more family female workers?\n",
    "\n",
    "_Note: for this question, we consider the indicators in the recent period dataframe_\n",
    "\n",
    "Sub-questions:\n",
    "1. How are the list of 10 countries ranked based on % of female workers (% based on total female employement) ?\n",
    "2. Which indicator has a highest average correlation with # of female workers ?\n",
    "3. What is the female/male ratio of family workers ?\n",
    "4. What level of income/hdi for most equal ratio of female/male family workers ?\n"
   ]
  },
  {
   "cell_type": "code",
   "execution_count": null,
   "metadata": {},
   "outputs": [],
   "source": [
    "# Let's answer question 1 (we look at recent rates - so indicator = female_10_15)\n",
    "# How are the list of 10 countries ranked based on % of female workers (% based on total female employement) ?\n",
    "df_countries_recent.iloc[:,0:2].sort_values(by = 'female_10_15', ascending = False)"
   ]
  },
  {
   "cell_type": "markdown",
   "metadata": {},
   "source": [
    "> Interesting... It looks like % of female family workers over the total female employment is much higher in emerging countries than in developped countries !"
   ]
  },
  {
   "cell_type": "code",
   "execution_count": null,
   "metadata": {},
   "outputs": [],
   "source": [
    "# Question 2: Which indicator has a highest average correlation with # of female workers ?\n",
    "df_countries_recent.corr(method = 'pearson').iloc[:,0:1].nlargest(10, columns = 'female_10_15')"
   ]
  },
  {
   "cell_type": "code",
   "execution_count": null,
   "metadata": {},
   "outputs": [],
   "source": [
    "df_countries.columns"
   ]
  },
  {
   "cell_type": "markdown",
   "metadata": {},
   "source": [
    "> This correlation table gives us great insights regarding how the indicators relate to the % of female family workers/female workers. \n",
    "> 1. The indicator that correlates the strongest to % female family workers is the mean years at school (negative     correlation), so that tells us that a country that offers more school years sees less female family workers\n",
    "> 2. Inthe same sense, a country with larger Income and Human Development Index observes less female family workers\n",
    "> 3. On the countrary, a country that has a higher number of male family workers correlates with more female family workers"
   ]
  },
  {
   "cell_type": "code",
   "execution_count": null,
   "metadata": {},
   "outputs": [],
   "source": [
    "recent_ind"
   ]
  },
  {
   "cell_type": "code",
   "execution_count": null,
   "metadata": {},
   "outputs": [],
   "source": [
    "df_countries_past"
   ]
  },
  {
   "cell_type": "code",
   "execution_count": null,
   "metadata": {},
   "outputs": [],
   "source": [
    "df_countries_recent.plot('female_10_15','male_10_15',kind = 'scatter');"
   ]
  },
  {
   "cell_type": "code",
   "execution_count": null,
   "metadata": {},
   "outputs": [],
   "source": [
    "# Question 3: What is the female/male ratio of family workers ?\n",
    "df_countries_recent['male/female_10_15'] = (df_countries_recent['male_10_15']/df_countries_recent['female_10_15']).round(2)"
   ]
  },
  {
   "cell_type": "code",
   "execution_count": null,
   "metadata": {},
   "outputs": [],
   "source": [
    "df_countries_recent"
   ]
  },
  {
   "cell_type": "markdown",
   "metadata": {},
   "source": [
    "> Sweden is far ahead the country that shows a most equal gender distribution of family workers. What is surprising is that a developed country like Germany has a same ratio of male/female workers as an emerging country like Brazil. What does this really tell us? So Far we have observed that developed countries tend to have less female family workers. What we find here is that male family workers are even more rare. "
   ]
  },
  {
   "cell_type": "code",
   "execution_count": null,
   "metadata": {},
   "outputs": [],
   "source": [
    "# Question 4: What level of income/hdi for most equal ratio of female/male family workers ?\n",
    "df_countries_recent.query('country == \"Sweden\"').iloc[:,np.r_[3,5]]\n"
   ]
  },
  {
   "cell_type": "code",
   "execution_count": null,
   "metadata": {},
   "outputs": [],
   "source": [
    "# Let's see how it compares when we group developed countries and emerging countries"
   ]
  },
  {
   "cell_type": "code",
   "execution_count": null,
   "metadata": {},
   "outputs": [],
   "source": [
    "# developed countries \n",
    "dev_countries = ['Sweden', 'Belgium','Italy', 'Germany','United States', 'Australia']\n",
    "# emerging countries\n",
    "em_countries = ['Brazil', 'Senegal', 'India', 'Syria']\n",
    "\n",
    "# Dataframes for developed and emerging countries\n",
    "df_dev_countries_recent = df_countries_recent[df_countries_recent['country'].isin(dev_countries)]\n",
    "df_em_countries_recent = df_countries_recent[df_countries_recent['country'].isin(em_countries)]"
   ]
  },
  {
   "cell_type": "code",
   "execution_count": null,
   "metadata": {},
   "outputs": [],
   "source": [
    "# df_countries_recent['country_level'] = df['country'].apply(lambda x: 'developed' if x in dev_countries else 'emerging')\n",
    "df_countries.loc[df_countries.country.isin(dev_countries), 'country_level'] = 'developed' \n",
    "df_countries.loc[df_countries.country.isin(em_countries), 'country_level'] = 'emerging' \n",
    "\n"
   ]
  },
  {
   "cell_type": "code",
   "execution_count": null,
   "metadata": {},
   "outputs": [],
   "source": [
    "df_countries"
   ]
  },
  {
   "cell_type": "code",
   "execution_count": null,
   "metadata": {},
   "outputs": [],
   "source": [
    "df_countries_recent"
   ]
  },
  {
   "cell_type": "code",
   "execution_count": null,
   "metadata": {},
   "outputs": [],
   "source": [
    "df_dev_countries_recent.agg({'income_10_15': np.mean, 'hdi_10_15': np.mean, 'male/female_10_15': np.mean})"
   ]
  },
  {
   "cell_type": "code",
   "execution_count": null,
   "metadata": {},
   "outputs": [],
   "source": [
    "df_em_countries_recent.agg({'income_10_15': np.mean, 'hdi_10_15': np.mean,'male/female_10_15': np.mean})"
   ]
  },
  {
   "cell_type": "markdown",
   "metadata": {},
   "source": [
    "### Research question 2:\n",
    "#### How did female/male ratio of family workers evolved in developed countries in the past vs. today ?"
   ]
  },
  {
   "cell_type": "code",
   "execution_count": null,
   "metadata": {},
   "outputs": [],
   "source": [
    "# Continue to explore the data to address your additional research\n",
    "#   questions. Add more headers as needed if you have more questions to\n",
    "#   investigate.\n"
   ]
  },
  {
   "cell_type": "markdown",
   "metadata": {},
   "source": [
    "<a id='conclusions'></a>\n",
    "## Conclusions\n",
    "\n",
    "> **Tip**: Finally, summarize your findings and the results that have been performed. Make sure that you are clear with regards to the limitations of your exploration. If you haven't done any statistical tests, do not imply any statistical conclusions. And make sure you avoid implying causation from correlation!\n",
    "\n",
    "> **Tip**: Once you are satisfied with your work, you should save a copy of the report in HTML or PDF form via the **File** > **Download as** submenu. Before exporting your report, check over it to make sure that the flow of the report is complete. You should probably remove all of the \"Tip\" quotes like this one so that the presentation is as tidy as possible. Congratulations!"
   ]
  },
  {
   "cell_type": "code",
   "execution_count": null,
   "metadata": {},
   "outputs": [],
   "source": []
  }
 ],
 "metadata": {
  "kernelspec": {
   "display_name": "Python 3",
   "language": "python",
   "name": "python3"
  },
  "language_info": {
   "codemirror_mode": {
    "name": "ipython",
    "version": 3
   },
   "file_extension": ".py",
   "mimetype": "text/x-python",
   "name": "python",
   "nbconvert_exporter": "python",
   "pygments_lexer": "ipython3",
   "version": "3.7.4"
  }
 },
 "nbformat": 4,
 "nbformat_minor": 2
}
